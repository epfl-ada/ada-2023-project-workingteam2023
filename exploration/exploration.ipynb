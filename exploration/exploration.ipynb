{
 "cells": [
  {
   "cell_type": "markdown",
   "metadata": {},
   "source": [
    "## Imports "
   ]
  },
  {
   "cell_type": "code",
   "execution_count": 59,
   "metadata": {},
   "outputs": [],
   "source": [
    "import pandas as pd\n",
    "import networkx as nx\n",
    "import matplotlib.pyplot as plt"
   ]
  },
  {
   "cell_type": "markdown",
   "metadata": {},
   "source": [
    "## Loading the data and rename the columns to match the documentation"
   ]
  },
  {
   "cell_type": "code",
   "execution_count": 60,
   "metadata": {},
   "outputs": [],
   "source": [
    "#load data/moviesummaries/character.metadata.tsv\n",
    "character_metadata = pd.read_csv('../data/moviesummaries/character.metadata.tsv', sep='\\t', header=None)\n",
    "\n",
    "#load data/moviesummaries/plot_summaries.txt\n",
    "plot_summaries = pd.read_csv('../data/moviesummaries/plot_summaries.txt', sep='\\t', header=None)\n",
    "\n",
    "#load data/moviesummaries/movie.metadata.tsv\n",
    "movie_metadata = pd.read_csv('../data/moviesummaries/movie.metadata.tsv', sep='\\t', header=None)\n",
    "\n",
    "#load data/moviesummaries/name.clusters.txt\n",
    "name_clusters = pd.read_csv('../data/moviesummaries/name.clusters.txt', sep='\\t', header=None)\n"
   ]
  },
  {
   "cell_type": "code",
   "execution_count": 61,
   "metadata": {},
   "outputs": [
    {
     "data": {
      "text/html": [
       "<div>\n",
       "<style scoped>\n",
       "    .dataframe tbody tr th:only-of-type {\n",
       "        vertical-align: middle;\n",
       "    }\n",
       "\n",
       "    .dataframe tbody tr th {\n",
       "        vertical-align: top;\n",
       "    }\n",
       "\n",
       "    .dataframe thead th {\n",
       "        text-align: right;\n",
       "    }\n",
       "</style>\n",
       "<table border=\"1\" class=\"dataframe\">\n",
       "  <thead>\n",
       "    <tr style=\"text-align: right;\">\n",
       "      <th></th>\n",
       "      <th>Wikipedia movie ID</th>\n",
       "      <th>Freebase movie ID</th>\n",
       "      <th>Movie release date</th>\n",
       "      <th>Character name</th>\n",
       "      <th>Actor date of birth</th>\n",
       "      <th>Actor gender</th>\n",
       "      <th>Actor height</th>\n",
       "      <th>Actor ethnicity</th>\n",
       "      <th>Actor name</th>\n",
       "      <th>Actor age</th>\n",
       "      <th>Freebase character/actor map ID</th>\n",
       "      <th>Freebase character ID</th>\n",
       "      <th>Freebase actor ID</th>\n",
       "    </tr>\n",
       "  </thead>\n",
       "  <tbody>\n",
       "    <tr>\n",
       "      <th>0</th>\n",
       "      <td>975900</td>\n",
       "      <td>/m/03vyhn</td>\n",
       "      <td>2001-08-24</td>\n",
       "      <td>Akooshay</td>\n",
       "      <td>1958-08-26</td>\n",
       "      <td>F</td>\n",
       "      <td>1.620</td>\n",
       "      <td>NaN</td>\n",
       "      <td>Wanda De Jesus</td>\n",
       "      <td>42.0</td>\n",
       "      <td>/m/0bgchxw</td>\n",
       "      <td>/m/0bgcj3x</td>\n",
       "      <td>/m/03wcfv7</td>\n",
       "    </tr>\n",
       "    <tr>\n",
       "      <th>1</th>\n",
       "      <td>975900</td>\n",
       "      <td>/m/03vyhn</td>\n",
       "      <td>2001-08-24</td>\n",
       "      <td>Lieutenant Melanie Ballard</td>\n",
       "      <td>1974-08-15</td>\n",
       "      <td>F</td>\n",
       "      <td>1.780</td>\n",
       "      <td>/m/044038p</td>\n",
       "      <td>Natasha Henstridge</td>\n",
       "      <td>27.0</td>\n",
       "      <td>/m/0jys3m</td>\n",
       "      <td>/m/0bgchn4</td>\n",
       "      <td>/m/0346l4</td>\n",
       "    </tr>\n",
       "    <tr>\n",
       "      <th>2</th>\n",
       "      <td>975900</td>\n",
       "      <td>/m/03vyhn</td>\n",
       "      <td>2001-08-24</td>\n",
       "      <td>Desolation Williams</td>\n",
       "      <td>1969-06-15</td>\n",
       "      <td>M</td>\n",
       "      <td>1.727</td>\n",
       "      <td>/m/0x67</td>\n",
       "      <td>Ice Cube</td>\n",
       "      <td>32.0</td>\n",
       "      <td>/m/0jys3g</td>\n",
       "      <td>/m/0bgchn_</td>\n",
       "      <td>/m/01vw26l</td>\n",
       "    </tr>\n",
       "    <tr>\n",
       "      <th>3</th>\n",
       "      <td>975900</td>\n",
       "      <td>/m/03vyhn</td>\n",
       "      <td>2001-08-24</td>\n",
       "      <td>Sgt Jericho Butler</td>\n",
       "      <td>1967-09-12</td>\n",
       "      <td>M</td>\n",
       "      <td>1.750</td>\n",
       "      <td>NaN</td>\n",
       "      <td>Jason Statham</td>\n",
       "      <td>33.0</td>\n",
       "      <td>/m/02vchl6</td>\n",
       "      <td>/m/0bgchnq</td>\n",
       "      <td>/m/034hyc</td>\n",
       "    </tr>\n",
       "    <tr>\n",
       "      <th>4</th>\n",
       "      <td>975900</td>\n",
       "      <td>/m/03vyhn</td>\n",
       "      <td>2001-08-24</td>\n",
       "      <td>Bashira Kincaid</td>\n",
       "      <td>1977-09-25</td>\n",
       "      <td>F</td>\n",
       "      <td>1.650</td>\n",
       "      <td>NaN</td>\n",
       "      <td>Clea DuVall</td>\n",
       "      <td>23.0</td>\n",
       "      <td>/m/02vbb3r</td>\n",
       "      <td>/m/0bgchp9</td>\n",
       "      <td>/m/01y9xg</td>\n",
       "    </tr>\n",
       "  </tbody>\n",
       "</table>\n",
       "</div>"
      ],
      "text/plain": [
       "   Wikipedia movie ID Freebase movie ID Movie release date  \\\n",
       "0              975900         /m/03vyhn         2001-08-24   \n",
       "1              975900         /m/03vyhn         2001-08-24   \n",
       "2              975900         /m/03vyhn         2001-08-24   \n",
       "3              975900         /m/03vyhn         2001-08-24   \n",
       "4              975900         /m/03vyhn         2001-08-24   \n",
       "\n",
       "               Character name Actor date of birth Actor gender  Actor height  \\\n",
       "0                    Akooshay          1958-08-26            F         1.620   \n",
       "1  Lieutenant Melanie Ballard          1974-08-15            F         1.780   \n",
       "2         Desolation Williams          1969-06-15            M         1.727   \n",
       "3          Sgt Jericho Butler          1967-09-12            M         1.750   \n",
       "4             Bashira Kincaid          1977-09-25            F         1.650   \n",
       "\n",
       "  Actor ethnicity          Actor name  Actor age  \\\n",
       "0             NaN      Wanda De Jesus       42.0   \n",
       "1      /m/044038p  Natasha Henstridge       27.0   \n",
       "2         /m/0x67            Ice Cube       32.0   \n",
       "3             NaN       Jason Statham       33.0   \n",
       "4             NaN         Clea DuVall       23.0   \n",
       "\n",
       "  Freebase character/actor map ID Freebase character ID Freebase actor ID  \n",
       "0                      /m/0bgchxw            /m/0bgcj3x        /m/03wcfv7  \n",
       "1                       /m/0jys3m            /m/0bgchn4         /m/0346l4  \n",
       "2                       /m/0jys3g            /m/0bgchn_        /m/01vw26l  \n",
       "3                      /m/02vchl6            /m/0bgchnq         /m/034hyc  \n",
       "4                      /m/02vbb3r            /m/0bgchp9         /m/01y9xg  "
      ]
     },
     "execution_count": 61,
     "metadata": {},
     "output_type": "execute_result"
    }
   ],
   "source": [
    "#rename columns to match documentation \n",
    "\n",
    "character_metadata.columns = [\"Wikipedia movie ID\", \"Freebase movie ID\", \"Movie release date\", \"Character name\", \"Actor date of birth\", \"Actor gender\", \n",
    "                              \"Actor height\", \"Actor ethnicity\", \"Actor name\", \"Actor age\", \"Freebase character/actor map ID\", \n",
    "                              \"Freebase character ID\", \"Freebase actor ID\"]\n",
    "\n",
    "character_metadata.head()"
   ]
  },
  {
   "cell_type": "code",
   "execution_count": 62,
   "metadata": {},
   "outputs": [
    {
     "data": {
      "text/html": [
       "<div>\n",
       "<style scoped>\n",
       "    .dataframe tbody tr th:only-of-type {\n",
       "        vertical-align: middle;\n",
       "    }\n",
       "\n",
       "    .dataframe tbody tr th {\n",
       "        vertical-align: top;\n",
       "    }\n",
       "\n",
       "    .dataframe thead th {\n",
       "        text-align: right;\n",
       "    }\n",
       "</style>\n",
       "<table border=\"1\" class=\"dataframe\">\n",
       "  <thead>\n",
       "    <tr style=\"text-align: right;\">\n",
       "      <th></th>\n",
       "      <th>Wikipedia movie ID</th>\n",
       "      <th>Summary</th>\n",
       "    </tr>\n",
       "  </thead>\n",
       "  <tbody>\n",
       "    <tr>\n",
       "      <th>0</th>\n",
       "      <td>23890098</td>\n",
       "      <td>Shlykov, a hard-working taxi driver and Lyosha...</td>\n",
       "    </tr>\n",
       "    <tr>\n",
       "      <th>1</th>\n",
       "      <td>31186339</td>\n",
       "      <td>The nation of Panem consists of a wealthy Capi...</td>\n",
       "    </tr>\n",
       "    <tr>\n",
       "      <th>2</th>\n",
       "      <td>20663735</td>\n",
       "      <td>Poovalli Induchoodan  is sentenced for six yea...</td>\n",
       "    </tr>\n",
       "    <tr>\n",
       "      <th>3</th>\n",
       "      <td>2231378</td>\n",
       "      <td>The Lemon Drop Kid , a New York City swindler,...</td>\n",
       "    </tr>\n",
       "    <tr>\n",
       "      <th>4</th>\n",
       "      <td>595909</td>\n",
       "      <td>Seventh-day Adventist Church pastor Michael Ch...</td>\n",
       "    </tr>\n",
       "  </tbody>\n",
       "</table>\n",
       "</div>"
      ],
      "text/plain": [
       "   Wikipedia movie ID                                            Summary\n",
       "0            23890098  Shlykov, a hard-working taxi driver and Lyosha...\n",
       "1            31186339  The nation of Panem consists of a wealthy Capi...\n",
       "2            20663735  Poovalli Induchoodan  is sentenced for six yea...\n",
       "3             2231378  The Lemon Drop Kid , a New York City swindler,...\n",
       "4              595909  Seventh-day Adventist Church pastor Michael Ch..."
      ]
     },
     "execution_count": 62,
     "metadata": {},
     "output_type": "execute_result"
    }
   ],
   "source": [
    "#rename columns to match documentation\n",
    "\n",
    "plot_summaries.columns = [\"Wikipedia movie ID\", \"Summary\"]\n",
    "\n",
    "plot_summaries.head()"
   ]
  },
  {
   "cell_type": "code",
   "execution_count": 63,
   "metadata": {},
   "outputs": [
    {
     "data": {
      "text/html": [
       "<div>\n",
       "<style scoped>\n",
       "    .dataframe tbody tr th:only-of-type {\n",
       "        vertical-align: middle;\n",
       "    }\n",
       "\n",
       "    .dataframe tbody tr th {\n",
       "        vertical-align: top;\n",
       "    }\n",
       "\n",
       "    .dataframe thead th {\n",
       "        text-align: right;\n",
       "    }\n",
       "</style>\n",
       "<table border=\"1\" class=\"dataframe\">\n",
       "  <thead>\n",
       "    <tr style=\"text-align: right;\">\n",
       "      <th></th>\n",
       "      <th>Wikipedia movie ID</th>\n",
       "      <th>Freebase movie ID</th>\n",
       "      <th>Movie name</th>\n",
       "      <th>Movie release date</th>\n",
       "      <th>Movie revenue</th>\n",
       "      <th>Movie runtime</th>\n",
       "      <th>Movie languages</th>\n",
       "      <th>Movie countries</th>\n",
       "      <th>Movie genres</th>\n",
       "    </tr>\n",
       "  </thead>\n",
       "  <tbody>\n",
       "    <tr>\n",
       "      <th>0</th>\n",
       "      <td>975900</td>\n",
       "      <td>/m/03vyhn</td>\n",
       "      <td>Ghosts of Mars</td>\n",
       "      <td>2001-08-24</td>\n",
       "      <td>14010832.0</td>\n",
       "      <td>98.0</td>\n",
       "      <td>{\"/m/02h40lc\": \"English Language\"}</td>\n",
       "      <td>{\"/m/09c7w0\": \"United States of America\"}</td>\n",
       "      <td>{\"/m/01jfsb\": \"Thriller\", \"/m/06n90\": \"Science...</td>\n",
       "    </tr>\n",
       "    <tr>\n",
       "      <th>1</th>\n",
       "      <td>3196793</td>\n",
       "      <td>/m/08yl5d</td>\n",
       "      <td>Getting Away with Murder: The JonBenét Ramsey ...</td>\n",
       "      <td>2000-02-16</td>\n",
       "      <td>NaN</td>\n",
       "      <td>95.0</td>\n",
       "      <td>{\"/m/02h40lc\": \"English Language\"}</td>\n",
       "      <td>{\"/m/09c7w0\": \"United States of America\"}</td>\n",
       "      <td>{\"/m/02n4kr\": \"Mystery\", \"/m/03bxz7\": \"Biograp...</td>\n",
       "    </tr>\n",
       "    <tr>\n",
       "      <th>2</th>\n",
       "      <td>28463795</td>\n",
       "      <td>/m/0crgdbh</td>\n",
       "      <td>Brun bitter</td>\n",
       "      <td>1988</td>\n",
       "      <td>NaN</td>\n",
       "      <td>83.0</td>\n",
       "      <td>{\"/m/05f_3\": \"Norwegian Language\"}</td>\n",
       "      <td>{\"/m/05b4w\": \"Norway\"}</td>\n",
       "      <td>{\"/m/0lsxr\": \"Crime Fiction\", \"/m/07s9rl0\": \"D...</td>\n",
       "    </tr>\n",
       "    <tr>\n",
       "      <th>3</th>\n",
       "      <td>9363483</td>\n",
       "      <td>/m/0285_cd</td>\n",
       "      <td>White Of The Eye</td>\n",
       "      <td>1987</td>\n",
       "      <td>NaN</td>\n",
       "      <td>110.0</td>\n",
       "      <td>{\"/m/02h40lc\": \"English Language\"}</td>\n",
       "      <td>{\"/m/07ssc\": \"United Kingdom\"}</td>\n",
       "      <td>{\"/m/01jfsb\": \"Thriller\", \"/m/0glj9q\": \"Erotic...</td>\n",
       "    </tr>\n",
       "    <tr>\n",
       "      <th>4</th>\n",
       "      <td>261236</td>\n",
       "      <td>/m/01mrr1</td>\n",
       "      <td>A Woman in Flames</td>\n",
       "      <td>1983</td>\n",
       "      <td>NaN</td>\n",
       "      <td>106.0</td>\n",
       "      <td>{\"/m/04306rv\": \"German Language\"}</td>\n",
       "      <td>{\"/m/0345h\": \"Germany\"}</td>\n",
       "      <td>{\"/m/07s9rl0\": \"Drama\"}</td>\n",
       "    </tr>\n",
       "  </tbody>\n",
       "</table>\n",
       "</div>"
      ],
      "text/plain": [
       "   Wikipedia movie ID Freebase movie ID  \\\n",
       "0              975900         /m/03vyhn   \n",
       "1             3196793         /m/08yl5d   \n",
       "2            28463795        /m/0crgdbh   \n",
       "3             9363483        /m/0285_cd   \n",
       "4              261236         /m/01mrr1   \n",
       "\n",
       "                                          Movie name Movie release date  \\\n",
       "0                                     Ghosts of Mars         2001-08-24   \n",
       "1  Getting Away with Murder: The JonBenét Ramsey ...         2000-02-16   \n",
       "2                                        Brun bitter               1988   \n",
       "3                                   White Of The Eye               1987   \n",
       "4                                  A Woman in Flames               1983   \n",
       "\n",
       "   Movie revenue  Movie runtime                     Movie languages  \\\n",
       "0     14010832.0           98.0  {\"/m/02h40lc\": \"English Language\"}   \n",
       "1            NaN           95.0  {\"/m/02h40lc\": \"English Language\"}   \n",
       "2            NaN           83.0  {\"/m/05f_3\": \"Norwegian Language\"}   \n",
       "3            NaN          110.0  {\"/m/02h40lc\": \"English Language\"}   \n",
       "4            NaN          106.0   {\"/m/04306rv\": \"German Language\"}   \n",
       "\n",
       "                             Movie countries  \\\n",
       "0  {\"/m/09c7w0\": \"United States of America\"}   \n",
       "1  {\"/m/09c7w0\": \"United States of America\"}   \n",
       "2                     {\"/m/05b4w\": \"Norway\"}   \n",
       "3             {\"/m/07ssc\": \"United Kingdom\"}   \n",
       "4                    {\"/m/0345h\": \"Germany\"}   \n",
       "\n",
       "                                        Movie genres  \n",
       "0  {\"/m/01jfsb\": \"Thriller\", \"/m/06n90\": \"Science...  \n",
       "1  {\"/m/02n4kr\": \"Mystery\", \"/m/03bxz7\": \"Biograp...  \n",
       "2  {\"/m/0lsxr\": \"Crime Fiction\", \"/m/07s9rl0\": \"D...  \n",
       "3  {\"/m/01jfsb\": \"Thriller\", \"/m/0glj9q\": \"Erotic...  \n",
       "4                            {\"/m/07s9rl0\": \"Drama\"}  "
      ]
     },
     "execution_count": 63,
     "metadata": {},
     "output_type": "execute_result"
    }
   ],
   "source": [
    "#rename columns to match documentation\n",
    "\n",
    "movie_metadata.columns = [\"Wikipedia movie ID\", \"Freebase movie ID\", \"Movie name\", \"Movie release date\", \"Movie revenue\", \"Movie runtime\",\n",
    "                          \"Movie languages\", \"Movie countries\", \"Movie genres\"]\n",
    "\n",
    "movie_metadata.head()"
   ]
  },
  {
   "cell_type": "code",
   "execution_count": 64,
   "metadata": {},
   "outputs": [
    {
     "data": {
      "text/html": [
       "<div>\n",
       "<style scoped>\n",
       "    .dataframe tbody tr th:only-of-type {\n",
       "        vertical-align: middle;\n",
       "    }\n",
       "\n",
       "    .dataframe tbody tr th {\n",
       "        vertical-align: top;\n",
       "    }\n",
       "\n",
       "    .dataframe thead th {\n",
       "        text-align: right;\n",
       "    }\n",
       "</style>\n",
       "<table border=\"1\" class=\"dataframe\">\n",
       "  <thead>\n",
       "    <tr style=\"text-align: right;\">\n",
       "      <th></th>\n",
       "      <th>Character name</th>\n",
       "      <th>Freebase character/actor map ID</th>\n",
       "    </tr>\n",
       "  </thead>\n",
       "  <tbody>\n",
       "    <tr>\n",
       "      <th>0</th>\n",
       "      <td>Stuart Little</td>\n",
       "      <td>/m/0k3w9c</td>\n",
       "    </tr>\n",
       "    <tr>\n",
       "      <th>1</th>\n",
       "      <td>Stuart Little</td>\n",
       "      <td>/m/0k3wcx</td>\n",
       "    </tr>\n",
       "    <tr>\n",
       "      <th>2</th>\n",
       "      <td>Stuart Little</td>\n",
       "      <td>/m/0k3wbn</td>\n",
       "    </tr>\n",
       "    <tr>\n",
       "      <th>3</th>\n",
       "      <td>John Doe</td>\n",
       "      <td>/m/0jyg35</td>\n",
       "    </tr>\n",
       "    <tr>\n",
       "      <th>4</th>\n",
       "      <td>John Doe</td>\n",
       "      <td>/m/0k2_zn</td>\n",
       "    </tr>\n",
       "  </tbody>\n",
       "</table>\n",
       "</div>"
      ],
      "text/plain": [
       "  Character name Freebase character/actor map ID\n",
       "0  Stuart Little                       /m/0k3w9c\n",
       "1  Stuart Little                       /m/0k3wcx\n",
       "2  Stuart Little                       /m/0k3wbn\n",
       "3       John Doe                       /m/0jyg35\n",
       "4       John Doe                       /m/0k2_zn"
      ]
     },
     "execution_count": 64,
     "metadata": {},
     "output_type": "execute_result"
    }
   ],
   "source": [
    "# rename columns to match documentation\n",
    "\n",
    "name_clusters.columns = [\"Character name\", \"Freebase character/actor map ID\"]\n",
    "\n",
    "name_clusters.head()"
   ]
  },
  {
   "cell_type": "markdown",
   "metadata": {},
   "source": [
    "## Merging of the tables"
   ]
  },
  {
   "cell_type": "code",
   "execution_count": 65,
   "metadata": {},
   "outputs": [
    {
     "data": {
      "text/html": [
       "<div>\n",
       "<style scoped>\n",
       "    .dataframe tbody tr th:only-of-type {\n",
       "        vertical-align: middle;\n",
       "    }\n",
       "\n",
       "    .dataframe tbody tr th {\n",
       "        vertical-align: top;\n",
       "    }\n",
       "\n",
       "    .dataframe thead th {\n",
       "        text-align: right;\n",
       "    }\n",
       "</style>\n",
       "<table border=\"1\" class=\"dataframe\">\n",
       "  <thead>\n",
       "    <tr style=\"text-align: right;\">\n",
       "      <th></th>\n",
       "      <th>Wikipedia movie ID</th>\n",
       "      <th>Freebase movie ID_x</th>\n",
       "      <th>Movie release date_x</th>\n",
       "      <th>Character name</th>\n",
       "      <th>Actor date of birth</th>\n",
       "      <th>Actor gender</th>\n",
       "      <th>Actor height</th>\n",
       "      <th>Actor ethnicity</th>\n",
       "      <th>Actor name</th>\n",
       "      <th>Actor age</th>\n",
       "      <th>...</th>\n",
       "      <th>Freebase character ID</th>\n",
       "      <th>Freebase actor ID</th>\n",
       "      <th>Freebase movie ID_y</th>\n",
       "      <th>Movie name</th>\n",
       "      <th>Movie release date_y</th>\n",
       "      <th>Movie revenue</th>\n",
       "      <th>Movie runtime</th>\n",
       "      <th>Movie languages</th>\n",
       "      <th>Movie countries</th>\n",
       "      <th>Movie genres</th>\n",
       "    </tr>\n",
       "  </thead>\n",
       "  <tbody>\n",
       "    <tr>\n",
       "      <th>0</th>\n",
       "      <td>975900</td>\n",
       "      <td>/m/03vyhn</td>\n",
       "      <td>2001-08-24</td>\n",
       "      <td>Akooshay</td>\n",
       "      <td>1958-08-26</td>\n",
       "      <td>F</td>\n",
       "      <td>1.620</td>\n",
       "      <td>NaN</td>\n",
       "      <td>Wanda De Jesus</td>\n",
       "      <td>42.0</td>\n",
       "      <td>...</td>\n",
       "      <td>/m/0bgcj3x</td>\n",
       "      <td>/m/03wcfv7</td>\n",
       "      <td>/m/03vyhn</td>\n",
       "      <td>Ghosts of Mars</td>\n",
       "      <td>2001-08-24</td>\n",
       "      <td>14010832.0</td>\n",
       "      <td>98.0</td>\n",
       "      <td>{\"/m/02h40lc\": \"English Language\"}</td>\n",
       "      <td>{\"/m/09c7w0\": \"United States of America\"}</td>\n",
       "      <td>{\"/m/01jfsb\": \"Thriller\", \"/m/06n90\": \"Science...</td>\n",
       "    </tr>\n",
       "    <tr>\n",
       "      <th>1</th>\n",
       "      <td>975900</td>\n",
       "      <td>/m/03vyhn</td>\n",
       "      <td>2001-08-24</td>\n",
       "      <td>Lieutenant Melanie Ballard</td>\n",
       "      <td>1974-08-15</td>\n",
       "      <td>F</td>\n",
       "      <td>1.780</td>\n",
       "      <td>/m/044038p</td>\n",
       "      <td>Natasha Henstridge</td>\n",
       "      <td>27.0</td>\n",
       "      <td>...</td>\n",
       "      <td>/m/0bgchn4</td>\n",
       "      <td>/m/0346l4</td>\n",
       "      <td>/m/03vyhn</td>\n",
       "      <td>Ghosts of Mars</td>\n",
       "      <td>2001-08-24</td>\n",
       "      <td>14010832.0</td>\n",
       "      <td>98.0</td>\n",
       "      <td>{\"/m/02h40lc\": \"English Language\"}</td>\n",
       "      <td>{\"/m/09c7w0\": \"United States of America\"}</td>\n",
       "      <td>{\"/m/01jfsb\": \"Thriller\", \"/m/06n90\": \"Science...</td>\n",
       "    </tr>\n",
       "    <tr>\n",
       "      <th>2</th>\n",
       "      <td>975900</td>\n",
       "      <td>/m/03vyhn</td>\n",
       "      <td>2001-08-24</td>\n",
       "      <td>Desolation Williams</td>\n",
       "      <td>1969-06-15</td>\n",
       "      <td>M</td>\n",
       "      <td>1.727</td>\n",
       "      <td>/m/0x67</td>\n",
       "      <td>Ice Cube</td>\n",
       "      <td>32.0</td>\n",
       "      <td>...</td>\n",
       "      <td>/m/0bgchn_</td>\n",
       "      <td>/m/01vw26l</td>\n",
       "      <td>/m/03vyhn</td>\n",
       "      <td>Ghosts of Mars</td>\n",
       "      <td>2001-08-24</td>\n",
       "      <td>14010832.0</td>\n",
       "      <td>98.0</td>\n",
       "      <td>{\"/m/02h40lc\": \"English Language\"}</td>\n",
       "      <td>{\"/m/09c7w0\": \"United States of America\"}</td>\n",
       "      <td>{\"/m/01jfsb\": \"Thriller\", \"/m/06n90\": \"Science...</td>\n",
       "    </tr>\n",
       "    <tr>\n",
       "      <th>3</th>\n",
       "      <td>975900</td>\n",
       "      <td>/m/03vyhn</td>\n",
       "      <td>2001-08-24</td>\n",
       "      <td>Sgt Jericho Butler</td>\n",
       "      <td>1967-09-12</td>\n",
       "      <td>M</td>\n",
       "      <td>1.750</td>\n",
       "      <td>NaN</td>\n",
       "      <td>Jason Statham</td>\n",
       "      <td>33.0</td>\n",
       "      <td>...</td>\n",
       "      <td>/m/0bgchnq</td>\n",
       "      <td>/m/034hyc</td>\n",
       "      <td>/m/03vyhn</td>\n",
       "      <td>Ghosts of Mars</td>\n",
       "      <td>2001-08-24</td>\n",
       "      <td>14010832.0</td>\n",
       "      <td>98.0</td>\n",
       "      <td>{\"/m/02h40lc\": \"English Language\"}</td>\n",
       "      <td>{\"/m/09c7w0\": \"United States of America\"}</td>\n",
       "      <td>{\"/m/01jfsb\": \"Thriller\", \"/m/06n90\": \"Science...</td>\n",
       "    </tr>\n",
       "    <tr>\n",
       "      <th>4</th>\n",
       "      <td>975900</td>\n",
       "      <td>/m/03vyhn</td>\n",
       "      <td>2001-08-24</td>\n",
       "      <td>Bashira Kincaid</td>\n",
       "      <td>1977-09-25</td>\n",
       "      <td>F</td>\n",
       "      <td>1.650</td>\n",
       "      <td>NaN</td>\n",
       "      <td>Clea DuVall</td>\n",
       "      <td>23.0</td>\n",
       "      <td>...</td>\n",
       "      <td>/m/0bgchp9</td>\n",
       "      <td>/m/01y9xg</td>\n",
       "      <td>/m/03vyhn</td>\n",
       "      <td>Ghosts of Mars</td>\n",
       "      <td>2001-08-24</td>\n",
       "      <td>14010832.0</td>\n",
       "      <td>98.0</td>\n",
       "      <td>{\"/m/02h40lc\": \"English Language\"}</td>\n",
       "      <td>{\"/m/09c7w0\": \"United States of America\"}</td>\n",
       "      <td>{\"/m/01jfsb\": \"Thriller\", \"/m/06n90\": \"Science...</td>\n",
       "    </tr>\n",
       "  </tbody>\n",
       "</table>\n",
       "<p>5 rows × 21 columns</p>\n",
       "</div>"
      ],
      "text/plain": [
       "   Wikipedia movie ID Freebase movie ID_x Movie release date_x  \\\n",
       "0              975900           /m/03vyhn           2001-08-24   \n",
       "1              975900           /m/03vyhn           2001-08-24   \n",
       "2              975900           /m/03vyhn           2001-08-24   \n",
       "3              975900           /m/03vyhn           2001-08-24   \n",
       "4              975900           /m/03vyhn           2001-08-24   \n",
       "\n",
       "               Character name Actor date of birth Actor gender  Actor height  \\\n",
       "0                    Akooshay          1958-08-26            F         1.620   \n",
       "1  Lieutenant Melanie Ballard          1974-08-15            F         1.780   \n",
       "2         Desolation Williams          1969-06-15            M         1.727   \n",
       "3          Sgt Jericho Butler          1967-09-12            M         1.750   \n",
       "4             Bashira Kincaid          1977-09-25            F         1.650   \n",
       "\n",
       "  Actor ethnicity          Actor name  Actor age  ... Freebase character ID  \\\n",
       "0             NaN      Wanda De Jesus       42.0  ...            /m/0bgcj3x   \n",
       "1      /m/044038p  Natasha Henstridge       27.0  ...            /m/0bgchn4   \n",
       "2         /m/0x67            Ice Cube       32.0  ...            /m/0bgchn_   \n",
       "3             NaN       Jason Statham       33.0  ...            /m/0bgchnq   \n",
       "4             NaN         Clea DuVall       23.0  ...            /m/0bgchp9   \n",
       "\n",
       "  Freebase actor ID Freebase movie ID_y      Movie name Movie release date_y  \\\n",
       "0        /m/03wcfv7           /m/03vyhn  Ghosts of Mars           2001-08-24   \n",
       "1         /m/0346l4           /m/03vyhn  Ghosts of Mars           2001-08-24   \n",
       "2        /m/01vw26l           /m/03vyhn  Ghosts of Mars           2001-08-24   \n",
       "3         /m/034hyc           /m/03vyhn  Ghosts of Mars           2001-08-24   \n",
       "4         /m/01y9xg           /m/03vyhn  Ghosts of Mars           2001-08-24   \n",
       "\n",
       "  Movie revenue  Movie runtime                     Movie languages  \\\n",
       "0    14010832.0           98.0  {\"/m/02h40lc\": \"English Language\"}   \n",
       "1    14010832.0           98.0  {\"/m/02h40lc\": \"English Language\"}   \n",
       "2    14010832.0           98.0  {\"/m/02h40lc\": \"English Language\"}   \n",
       "3    14010832.0           98.0  {\"/m/02h40lc\": \"English Language\"}   \n",
       "4    14010832.0           98.0  {\"/m/02h40lc\": \"English Language\"}   \n",
       "\n",
       "                             Movie countries  \\\n",
       "0  {\"/m/09c7w0\": \"United States of America\"}   \n",
       "1  {\"/m/09c7w0\": \"United States of America\"}   \n",
       "2  {\"/m/09c7w0\": \"United States of America\"}   \n",
       "3  {\"/m/09c7w0\": \"United States of America\"}   \n",
       "4  {\"/m/09c7w0\": \"United States of America\"}   \n",
       "\n",
       "                                        Movie genres  \n",
       "0  {\"/m/01jfsb\": \"Thriller\", \"/m/06n90\": \"Science...  \n",
       "1  {\"/m/01jfsb\": \"Thriller\", \"/m/06n90\": \"Science...  \n",
       "2  {\"/m/01jfsb\": \"Thriller\", \"/m/06n90\": \"Science...  \n",
       "3  {\"/m/01jfsb\": \"Thriller\", \"/m/06n90\": \"Science...  \n",
       "4  {\"/m/01jfsb\": \"Thriller\", \"/m/06n90\": \"Science...  \n",
       "\n",
       "[5 rows x 21 columns]"
      ]
     },
     "execution_count": 65,
     "metadata": {},
     "output_type": "execute_result"
    }
   ],
   "source": [
    "# Merging character_metadata and movie_metadata on Wikipedia movie ID\n",
    "\n",
    "character_movie = pd.merge(character_metadata, movie_metadata, on='Wikipedia movie ID', how='outer') #The outer join yields the union of the two tables, so all rows are represented, with missing values inserted as appropriate.\n",
    "character_movie.head()\n",
    "are_columns_equal = (character_movie['Freebase movie ID_x'] == character_movie['Freebase movie ID_y']).all()\n",
    "character_movie.head()"
   ]
  },
  {
   "cell_type": "markdown",
   "metadata": {},
   "source": [
    "This merge might not be usefull +doubles the columns of ID and release ..."
   ]
  },
  {
   "cell_type": "code",
   "execution_count": 66,
   "metadata": {},
   "outputs": [
    {
     "data": {
      "text/html": [
       "<div>\n",
       "<style scoped>\n",
       "    .dataframe tbody tr th:only-of-type {\n",
       "        vertical-align: middle;\n",
       "    }\n",
       "\n",
       "    .dataframe tbody tr th {\n",
       "        vertical-align: top;\n",
       "    }\n",
       "\n",
       "    .dataframe thead th {\n",
       "        text-align: right;\n",
       "    }\n",
       "</style>\n",
       "<table border=\"1\" class=\"dataframe\">\n",
       "  <thead>\n",
       "    <tr style=\"text-align: right;\">\n",
       "      <th></th>\n",
       "      <th>Wikipedia movie ID</th>\n",
       "      <th>Freebase movie ID</th>\n",
       "      <th>Movie name</th>\n",
       "      <th>Movie release date</th>\n",
       "      <th>Movie revenue</th>\n",
       "      <th>Movie runtime</th>\n",
       "      <th>Movie languages</th>\n",
       "      <th>Movie countries</th>\n",
       "      <th>Movie genres</th>\n",
       "      <th>Summary</th>\n",
       "    </tr>\n",
       "  </thead>\n",
       "  <tbody>\n",
       "    <tr>\n",
       "      <th>0</th>\n",
       "      <td>975900</td>\n",
       "      <td>/m/03vyhn</td>\n",
       "      <td>Ghosts of Mars</td>\n",
       "      <td>2001-08-24</td>\n",
       "      <td>14010832.0</td>\n",
       "      <td>98.0</td>\n",
       "      <td>{\"/m/02h40lc\": \"English Language\"}</td>\n",
       "      <td>{\"/m/09c7w0\": \"United States of America\"}</td>\n",
       "      <td>{\"/m/01jfsb\": \"Thriller\", \"/m/06n90\": \"Science...</td>\n",
       "      <td>Set in the second half of the 22nd century, th...</td>\n",
       "    </tr>\n",
       "    <tr>\n",
       "      <th>1</th>\n",
       "      <td>3196793</td>\n",
       "      <td>/m/08yl5d</td>\n",
       "      <td>Getting Away with Murder: The JonBenét Ramsey ...</td>\n",
       "      <td>2000-02-16</td>\n",
       "      <td>NaN</td>\n",
       "      <td>95.0</td>\n",
       "      <td>{\"/m/02h40lc\": \"English Language\"}</td>\n",
       "      <td>{\"/m/09c7w0\": \"United States of America\"}</td>\n",
       "      <td>{\"/m/02n4kr\": \"Mystery\", \"/m/03bxz7\": \"Biograp...</td>\n",
       "      <td>NaN</td>\n",
       "    </tr>\n",
       "    <tr>\n",
       "      <th>2</th>\n",
       "      <td>28463795</td>\n",
       "      <td>/m/0crgdbh</td>\n",
       "      <td>Brun bitter</td>\n",
       "      <td>1988</td>\n",
       "      <td>NaN</td>\n",
       "      <td>83.0</td>\n",
       "      <td>{\"/m/05f_3\": \"Norwegian Language\"}</td>\n",
       "      <td>{\"/m/05b4w\": \"Norway\"}</td>\n",
       "      <td>{\"/m/0lsxr\": \"Crime Fiction\", \"/m/07s9rl0\": \"D...</td>\n",
       "      <td>NaN</td>\n",
       "    </tr>\n",
       "    <tr>\n",
       "      <th>3</th>\n",
       "      <td>9363483</td>\n",
       "      <td>/m/0285_cd</td>\n",
       "      <td>White Of The Eye</td>\n",
       "      <td>1987</td>\n",
       "      <td>NaN</td>\n",
       "      <td>110.0</td>\n",
       "      <td>{\"/m/02h40lc\": \"English Language\"}</td>\n",
       "      <td>{\"/m/07ssc\": \"United Kingdom\"}</td>\n",
       "      <td>{\"/m/01jfsb\": \"Thriller\", \"/m/0glj9q\": \"Erotic...</td>\n",
       "      <td>A series of murders of rich young women throug...</td>\n",
       "    </tr>\n",
       "    <tr>\n",
       "      <th>4</th>\n",
       "      <td>261236</td>\n",
       "      <td>/m/01mrr1</td>\n",
       "      <td>A Woman in Flames</td>\n",
       "      <td>1983</td>\n",
       "      <td>NaN</td>\n",
       "      <td>106.0</td>\n",
       "      <td>{\"/m/04306rv\": \"German Language\"}</td>\n",
       "      <td>{\"/m/0345h\": \"Germany\"}</td>\n",
       "      <td>{\"/m/07s9rl0\": \"Drama\"}</td>\n",
       "      <td>Eva, an upper class housewife, becomes frustra...</td>\n",
       "    </tr>\n",
       "  </tbody>\n",
       "</table>\n",
       "</div>"
      ],
      "text/plain": [
       "   Wikipedia movie ID Freebase movie ID  \\\n",
       "0              975900         /m/03vyhn   \n",
       "1             3196793         /m/08yl5d   \n",
       "2            28463795        /m/0crgdbh   \n",
       "3             9363483        /m/0285_cd   \n",
       "4              261236         /m/01mrr1   \n",
       "\n",
       "                                          Movie name Movie release date  \\\n",
       "0                                     Ghosts of Mars         2001-08-24   \n",
       "1  Getting Away with Murder: The JonBenét Ramsey ...         2000-02-16   \n",
       "2                                        Brun bitter               1988   \n",
       "3                                   White Of The Eye               1987   \n",
       "4                                  A Woman in Flames               1983   \n",
       "\n",
       "   Movie revenue  Movie runtime                     Movie languages  \\\n",
       "0     14010832.0           98.0  {\"/m/02h40lc\": \"English Language\"}   \n",
       "1            NaN           95.0  {\"/m/02h40lc\": \"English Language\"}   \n",
       "2            NaN           83.0  {\"/m/05f_3\": \"Norwegian Language\"}   \n",
       "3            NaN          110.0  {\"/m/02h40lc\": \"English Language\"}   \n",
       "4            NaN          106.0   {\"/m/04306rv\": \"German Language\"}   \n",
       "\n",
       "                             Movie countries  \\\n",
       "0  {\"/m/09c7w0\": \"United States of America\"}   \n",
       "1  {\"/m/09c7w0\": \"United States of America\"}   \n",
       "2                     {\"/m/05b4w\": \"Norway\"}   \n",
       "3             {\"/m/07ssc\": \"United Kingdom\"}   \n",
       "4                    {\"/m/0345h\": \"Germany\"}   \n",
       "\n",
       "                                        Movie genres  \\\n",
       "0  {\"/m/01jfsb\": \"Thriller\", \"/m/06n90\": \"Science...   \n",
       "1  {\"/m/02n4kr\": \"Mystery\", \"/m/03bxz7\": \"Biograp...   \n",
       "2  {\"/m/0lsxr\": \"Crime Fiction\", \"/m/07s9rl0\": \"D...   \n",
       "3  {\"/m/01jfsb\": \"Thriller\", \"/m/0glj9q\": \"Erotic...   \n",
       "4                            {\"/m/07s9rl0\": \"Drama\"}   \n",
       "\n",
       "                                             Summary  \n",
       "0  Set in the second half of the 22nd century, th...  \n",
       "1                                                NaN  \n",
       "2                                                NaN  \n",
       "3  A series of murders of rich young women throug...  \n",
       "4  Eva, an upper class housewife, becomes frustra...  "
      ]
     },
     "execution_count": 66,
     "metadata": {},
     "output_type": "execute_result"
    }
   ],
   "source": [
    "#merging movie_metadata and plot_summaries on Wikipedia movie ID\n",
    "\n",
    "movie_plot = pd.merge(movie_metadata, plot_summaries, on='Wikipedia movie ID', how='outer')\n",
    "movie_plot.head()"
   ]
  },
  {
   "cell_type": "markdown",
   "metadata": {},
   "source": [
    "If we want to use this merged data for the rest of the analysis we need to change the code bellow -> see with the others"
   ]
  },
  {
   "cell_type": "markdown",
   "metadata": {},
   "source": [
    "## Data completeness"
   ]
  },
  {
   "cell_type": "code",
   "execution_count": 67,
   "metadata": {},
   "outputs": [
    {
     "data": {
      "text/html": [
       "<div>\n",
       "<style scoped>\n",
       "    .dataframe tbody tr th:only-of-type {\n",
       "        vertical-align: middle;\n",
       "    }\n",
       "\n",
       "    .dataframe tbody tr th {\n",
       "        vertical-align: top;\n",
       "    }\n",
       "\n",
       "    .dataframe thead th {\n",
       "        text-align: right;\n",
       "    }\n",
       "</style>\n",
       "<table border=\"1\" class=\"dataframe\">\n",
       "  <thead>\n",
       "    <tr style=\"text-align: right;\">\n",
       "      <th></th>\n",
       "      <th>Number of null values</th>\n",
       "      <th>Percentage of null values</th>\n",
       "      <th>Number of unique values</th>\n",
       "    </tr>\n",
       "  </thead>\n",
       "  <tbody>\n",
       "    <tr>\n",
       "      <th>Wikipedia movie ID</th>\n",
       "      <td>0</td>\n",
       "      <td>0.000000</td>\n",
       "      <td>64330</td>\n",
       "    </tr>\n",
       "    <tr>\n",
       "      <th>Freebase movie ID</th>\n",
       "      <td>0</td>\n",
       "      <td>0.000000</td>\n",
       "      <td>64330</td>\n",
       "    </tr>\n",
       "    <tr>\n",
       "      <th>Movie release date</th>\n",
       "      <td>9995</td>\n",
       "      <td>0.022178</td>\n",
       "      <td>18476</td>\n",
       "    </tr>\n",
       "    <tr>\n",
       "      <th>Character name</th>\n",
       "      <td>257875</td>\n",
       "      <td>0.572205</td>\n",
       "      <td>126629</td>\n",
       "    </tr>\n",
       "    <tr>\n",
       "      <th>Actor date of birth</th>\n",
       "      <td>106145</td>\n",
       "      <td>0.235528</td>\n",
       "      <td>29494</td>\n",
       "    </tr>\n",
       "    <tr>\n",
       "      <th>Actor gender</th>\n",
       "      <td>45609</td>\n",
       "      <td>0.101203</td>\n",
       "      <td>2</td>\n",
       "    </tr>\n",
       "    <tr>\n",
       "      <th>Actor height</th>\n",
       "      <td>295845</td>\n",
       "      <td>0.656457</td>\n",
       "      <td>221</td>\n",
       "    </tr>\n",
       "    <tr>\n",
       "      <th>Actor ethnicity</th>\n",
       "      <td>344611</td>\n",
       "      <td>0.764665</td>\n",
       "      <td>479</td>\n",
       "    </tr>\n",
       "    <tr>\n",
       "      <th>Actor name</th>\n",
       "      <td>1228</td>\n",
       "      <td>0.002725</td>\n",
       "      <td>134078</td>\n",
       "    </tr>\n",
       "    <tr>\n",
       "      <th>Actor age</th>\n",
       "      <td>158113</td>\n",
       "      <td>0.350841</td>\n",
       "      <td>155</td>\n",
       "    </tr>\n",
       "    <tr>\n",
       "      <th>Freebase character/actor map ID</th>\n",
       "      <td>0</td>\n",
       "      <td>0.000000</td>\n",
       "      <td>450669</td>\n",
       "    </tr>\n",
       "    <tr>\n",
       "      <th>Freebase character ID</th>\n",
       "      <td>257865</td>\n",
       "      <td>0.572183</td>\n",
       "      <td>183435</td>\n",
       "    </tr>\n",
       "    <tr>\n",
       "      <th>Freebase actor ID</th>\n",
       "      <td>815</td>\n",
       "      <td>0.001808</td>\n",
       "      <td>135760</td>\n",
       "    </tr>\n",
       "  </tbody>\n",
       "</table>\n",
       "</div>"
      ],
      "text/plain": [
       "                                 Number of null values  \\\n",
       "Wikipedia movie ID                                   0   \n",
       "Freebase movie ID                                    0   \n",
       "Movie release date                                9995   \n",
       "Character name                                  257875   \n",
       "Actor date of birth                             106145   \n",
       "Actor gender                                     45609   \n",
       "Actor height                                    295845   \n",
       "Actor ethnicity                                 344611   \n",
       "Actor name                                        1228   \n",
       "Actor age                                       158113   \n",
       "Freebase character/actor map ID                      0   \n",
       "Freebase character ID                           257865   \n",
       "Freebase actor ID                                  815   \n",
       "\n",
       "                                 Percentage of null values  \\\n",
       "Wikipedia movie ID                                0.000000   \n",
       "Freebase movie ID                                 0.000000   \n",
       "Movie release date                                0.022178   \n",
       "Character name                                    0.572205   \n",
       "Actor date of birth                               0.235528   \n",
       "Actor gender                                      0.101203   \n",
       "Actor height                                      0.656457   \n",
       "Actor ethnicity                                   0.764665   \n",
       "Actor name                                        0.002725   \n",
       "Actor age                                         0.350841   \n",
       "Freebase character/actor map ID                   0.000000   \n",
       "Freebase character ID                             0.572183   \n",
       "Freebase actor ID                                 0.001808   \n",
       "\n",
       "                                 Number of unique values  \n",
       "Wikipedia movie ID                                 64330  \n",
       "Freebase movie ID                                  64330  \n",
       "Movie release date                                 18476  \n",
       "Character name                                    126629  \n",
       "Actor date of birth                                29494  \n",
       "Actor gender                                           2  \n",
       "Actor height                                         221  \n",
       "Actor ethnicity                                      479  \n",
       "Actor name                                        134078  \n",
       "Actor age                                            155  \n",
       "Freebase character/actor map ID                   450669  \n",
       "Freebase character ID                             183435  \n",
       "Freebase actor ID                                 135760  "
      ]
     },
     "execution_count": 67,
     "metadata": {},
     "output_type": "execute_result"
    }
   ],
   "source": [
    "# check the number and percentage of null values in each column of character_metadata as well as the number of different values in each column. Show the results in a single dataframe.\n",
    "\n",
    "character_metadata_null = pd.DataFrame(character_metadata.isnull().sum(), columns=['Number of null values'])\n",
    "character_metadata_null['Percentage of null values'] = character_metadata_null['Number of null values'] / len(character_metadata)\n",
    "character_metadata_null['Number of unique values'] = character_metadata.nunique()\n",
    "\n",
    "character_metadata_null"
   ]
  },
  {
   "cell_type": "markdown",
   "metadata": {},
   "source": [
    "The character name, etnhicity and heigh have a high percentage of missing values. "
   ]
  },
  {
   "cell_type": "code",
   "execution_count": 68,
   "metadata": {},
   "outputs": [
    {
     "data": {
      "text/html": [
       "<div>\n",
       "<style scoped>\n",
       "    .dataframe tbody tr th:only-of-type {\n",
       "        vertical-align: middle;\n",
       "    }\n",
       "\n",
       "    .dataframe tbody tr th {\n",
       "        vertical-align: top;\n",
       "    }\n",
       "\n",
       "    .dataframe thead th {\n",
       "        text-align: right;\n",
       "    }\n",
       "</style>\n",
       "<table border=\"1\" class=\"dataframe\">\n",
       "  <thead>\n",
       "    <tr style=\"text-align: right;\">\n",
       "      <th></th>\n",
       "      <th>Number of null values</th>\n",
       "      <th>Percentage of null values</th>\n",
       "      <th>Number of unique values</th>\n",
       "    </tr>\n",
       "  </thead>\n",
       "  <tbody>\n",
       "    <tr>\n",
       "      <th>Wikipedia movie ID</th>\n",
       "      <td>0</td>\n",
       "      <td>0.0</td>\n",
       "      <td>42303</td>\n",
       "    </tr>\n",
       "    <tr>\n",
       "      <th>Summary</th>\n",
       "      <td>0</td>\n",
       "      <td>0.0</td>\n",
       "      <td>42295</td>\n",
       "    </tr>\n",
       "  </tbody>\n",
       "</table>\n",
       "</div>"
      ],
      "text/plain": [
       "                    Number of null values  Percentage of null values  \\\n",
       "Wikipedia movie ID                      0                        0.0   \n",
       "Summary                                 0                        0.0   \n",
       "\n",
       "                    Number of unique values  \n",
       "Wikipedia movie ID                    42303  \n",
       "Summary                               42295  "
      ]
     },
     "execution_count": 68,
     "metadata": {},
     "output_type": "execute_result"
    }
   ],
   "source": [
    "# check the number and percentage of null values in each column of plot_summaries as well as the number of different values in each column. Show the results in a single dataframe.\n",
    "\n",
    "plot_summaries_null = pd.DataFrame(plot_summaries.isnull().sum(), columns=['Number of null values'])\n",
    "plot_summaries_null['Percentage of null values'] = plot_summaries_null['Number of null values'] / len(plot_summaries)\n",
    "plot_summaries_null['Number of unique values'] = plot_summaries.nunique()\n",
    "\n",
    "plot_summaries_null"
   ]
  },
  {
   "cell_type": "code",
   "execution_count": 69,
   "metadata": {},
   "outputs": [
    {
     "data": {
      "text/html": [
       "<div>\n",
       "<style scoped>\n",
       "    .dataframe tbody tr th:only-of-type {\n",
       "        vertical-align: middle;\n",
       "    }\n",
       "\n",
       "    .dataframe tbody tr th {\n",
       "        vertical-align: top;\n",
       "    }\n",
       "\n",
       "    .dataframe thead th {\n",
       "        text-align: right;\n",
       "    }\n",
       "</style>\n",
       "<table border=\"1\" class=\"dataframe\">\n",
       "  <thead>\n",
       "    <tr style=\"text-align: right;\">\n",
       "      <th></th>\n",
       "      <th>Wikipedia movie ID</th>\n",
       "      <th>Summary</th>\n",
       "    </tr>\n",
       "  </thead>\n",
       "  <tbody>\n",
       "    <tr>\n",
       "      <th>14631</th>\n",
       "      <td>14055212</td>\n",
       "      <td>A woman is thrown out of her home by her jealo...</td>\n",
       "    </tr>\n",
       "    <tr>\n",
       "      <th>29428</th>\n",
       "      <td>14022275</td>\n",
       "      <td>A woman is thrown out of her home by her jealo...</td>\n",
       "    </tr>\n",
       "    <tr>\n",
       "      <th>30987</th>\n",
       "      <td>14051944</td>\n",
       "      <td>A woman is thrown out of her home by her jealo...</td>\n",
       "    </tr>\n",
       "    <tr>\n",
       "      <th>31702</th>\n",
       "      <td>14053389</td>\n",
       "      <td>A woman is thrown out of her home by her jealo...</td>\n",
       "    </tr>\n",
       "    <tr>\n",
       "      <th>35058</th>\n",
       "      <td>19609453</td>\n",
       "      <td>Raja was adopted by a criminal don  at a very ...</td>\n",
       "    </tr>\n",
       "    <tr>\n",
       "      <th>38536</th>\n",
       "      <td>14616220</td>\n",
       "      <td>As the American Civil War begins, Ned Burton l...</td>\n",
       "    </tr>\n",
       "    <tr>\n",
       "      <th>38831</th>\n",
       "      <td>10791937</td>\n",
       "      <td>Taking a step aside from the usual serious dra...</td>\n",
       "    </tr>\n",
       "    <tr>\n",
       "      <th>39019</th>\n",
       "      <td>29481480</td>\n",
       "      <td>An orphan Raghav turns into a ruthless contrac...</td>\n",
       "    </tr>\n",
       "  </tbody>\n",
       "</table>\n",
       "</div>"
      ],
      "text/plain": [
       "       Wikipedia movie ID                                            Summary\n",
       "14631            14055212  A woman is thrown out of her home by her jealo...\n",
       "29428            14022275  A woman is thrown out of her home by her jealo...\n",
       "30987            14051944  A woman is thrown out of her home by her jealo...\n",
       "31702            14053389  A woman is thrown out of her home by her jealo...\n",
       "35058            19609453  Raja was adopted by a criminal don  at a very ...\n",
       "38536            14616220  As the American Civil War begins, Ned Burton l...\n",
       "38831            10791937  Taking a step aside from the usual serious dra...\n",
       "39019            29481480  An orphan Raghav turns into a ruthless contrac..."
      ]
     },
     "execution_count": 69,
     "metadata": {},
     "output_type": "execute_result"
    }
   ],
   "source": [
    "# show summary duplicates\n",
    "\n",
    "plot_summaries[plot_summaries.duplicated(subset=['Summary'])]"
   ]
  },
  {
   "cell_type": "code",
   "execution_count": 70,
   "metadata": {},
   "outputs": [
    {
     "data": {
      "text/html": [
       "<div>\n",
       "<style scoped>\n",
       "    .dataframe tbody tr th:only-of-type {\n",
       "        vertical-align: middle;\n",
       "    }\n",
       "\n",
       "    .dataframe tbody tr th {\n",
       "        vertical-align: top;\n",
       "    }\n",
       "\n",
       "    .dataframe thead th {\n",
       "        text-align: right;\n",
       "    }\n",
       "</style>\n",
       "<table border=\"1\" class=\"dataframe\">\n",
       "  <thead>\n",
       "    <tr style=\"text-align: right;\">\n",
       "      <th></th>\n",
       "      <th>Number of null values</th>\n",
       "      <th>Percentage of null values</th>\n",
       "      <th>Number of unique values</th>\n",
       "    </tr>\n",
       "  </thead>\n",
       "  <tbody>\n",
       "    <tr>\n",
       "      <th>Wikipedia movie ID</th>\n",
       "      <td>0</td>\n",
       "      <td>0.000000</td>\n",
       "      <td>81741</td>\n",
       "    </tr>\n",
       "    <tr>\n",
       "      <th>Freebase movie ID</th>\n",
       "      <td>0</td>\n",
       "      <td>0.000000</td>\n",
       "      <td>81741</td>\n",
       "    </tr>\n",
       "    <tr>\n",
       "      <th>Movie name</th>\n",
       "      <td>0</td>\n",
       "      <td>0.000000</td>\n",
       "      <td>75478</td>\n",
       "    </tr>\n",
       "    <tr>\n",
       "      <th>Movie release date</th>\n",
       "      <td>6902</td>\n",
       "      <td>0.084437</td>\n",
       "      <td>20389</td>\n",
       "    </tr>\n",
       "    <tr>\n",
       "      <th>Movie revenue</th>\n",
       "      <td>73340</td>\n",
       "      <td>0.897224</td>\n",
       "      <td>7362</td>\n",
       "    </tr>\n",
       "    <tr>\n",
       "      <th>Movie runtime</th>\n",
       "      <td>20450</td>\n",
       "      <td>0.250180</td>\n",
       "      <td>597</td>\n",
       "    </tr>\n",
       "    <tr>\n",
       "      <th>Movie languages</th>\n",
       "      <td>0</td>\n",
       "      <td>0.000000</td>\n",
       "      <td>1817</td>\n",
       "    </tr>\n",
       "    <tr>\n",
       "      <th>Movie countries</th>\n",
       "      <td>0</td>\n",
       "      <td>0.000000</td>\n",
       "      <td>2124</td>\n",
       "    </tr>\n",
       "    <tr>\n",
       "      <th>Movie genres</th>\n",
       "      <td>0</td>\n",
       "      <td>0.000000</td>\n",
       "      <td>23817</td>\n",
       "    </tr>\n",
       "  </tbody>\n",
       "</table>\n",
       "</div>"
      ],
      "text/plain": [
       "                    Number of null values  Percentage of null values  \\\n",
       "Wikipedia movie ID                      0                   0.000000   \n",
       "Freebase movie ID                       0                   0.000000   \n",
       "Movie name                              0                   0.000000   \n",
       "Movie release date                   6902                   0.084437   \n",
       "Movie revenue                       73340                   0.897224   \n",
       "Movie runtime                       20450                   0.250180   \n",
       "Movie languages                         0                   0.000000   \n",
       "Movie countries                         0                   0.000000   \n",
       "Movie genres                            0                   0.000000   \n",
       "\n",
       "                    Number of unique values  \n",
       "Wikipedia movie ID                    81741  \n",
       "Freebase movie ID                     81741  \n",
       "Movie name                            75478  \n",
       "Movie release date                    20389  \n",
       "Movie revenue                          7362  \n",
       "Movie runtime                           597  \n",
       "Movie languages                        1817  \n",
       "Movie countries                        2124  \n",
       "Movie genres                          23817  "
      ]
     },
     "execution_count": 70,
     "metadata": {},
     "output_type": "execute_result"
    }
   ],
   "source": [
    "# check the number and percentage of null values in each column of movie_metadata as well as the number of different values in each column. Show the results in a single dataframe.\n",
    "\n",
    "movie_metadata_null = pd.DataFrame(movie_metadata.isnull().sum(), columns=['Number of null values'])\n",
    "movie_metadata_null['Percentage of null values'] = movie_metadata_null['Number of null values'] / len(movie_metadata)\n",
    "movie_metadata_null['Number of unique values'] = movie_metadata.nunique()\n",
    "\n",
    "movie_metadata_null"
   ]
  },
  {
   "cell_type": "markdown",
   "metadata": {},
   "source": [
    "We can see that around 90% of data for the movie revenue are missing. Since this informations might be usefull for the rest of the project, we might need to consider ways of enriching the data ?\n"
   ]
  },
  {
   "cell_type": "code",
   "execution_count": 71,
   "metadata": {},
   "outputs": [
    {
     "data": {
      "text/html": [
       "<div>\n",
       "<style scoped>\n",
       "    .dataframe tbody tr th:only-of-type {\n",
       "        vertical-align: middle;\n",
       "    }\n",
       "\n",
       "    .dataframe tbody tr th {\n",
       "        vertical-align: top;\n",
       "    }\n",
       "\n",
       "    .dataframe thead th {\n",
       "        text-align: right;\n",
       "    }\n",
       "</style>\n",
       "<table border=\"1\" class=\"dataframe\">\n",
       "  <thead>\n",
       "    <tr style=\"text-align: right;\">\n",
       "      <th></th>\n",
       "      <th>Number of null values</th>\n",
       "      <th>Percentage of null values</th>\n",
       "      <th>Number of unique values</th>\n",
       "    </tr>\n",
       "  </thead>\n",
       "  <tbody>\n",
       "    <tr>\n",
       "      <th>Character name</th>\n",
       "      <td>0</td>\n",
       "      <td>0.0</td>\n",
       "      <td>970</td>\n",
       "    </tr>\n",
       "    <tr>\n",
       "      <th>Freebase character/actor map ID</th>\n",
       "      <td>0</td>\n",
       "      <td>0.0</td>\n",
       "      <td>2661</td>\n",
       "    </tr>\n",
       "  </tbody>\n",
       "</table>\n",
       "</div>"
      ],
      "text/plain": [
       "                                 Number of null values  \\\n",
       "Character name                                       0   \n",
       "Freebase character/actor map ID                      0   \n",
       "\n",
       "                                 Percentage of null values  \\\n",
       "Character name                                         0.0   \n",
       "Freebase character/actor map ID                        0.0   \n",
       "\n",
       "                                 Number of unique values  \n",
       "Character name                                       970  \n",
       "Freebase character/actor map ID                     2661  "
      ]
     },
     "execution_count": 71,
     "metadata": {},
     "output_type": "execute_result"
    }
   ],
   "source": [
    "# check the number and percentage of null values in each column of name_clusters as well as the number of different values in each column. Show the results in a single dataframe.\n",
    "\n",
    "name_clusters_null = pd.DataFrame(name_clusters.isnull().sum(), columns=['Number of null values'])\n",
    "name_clusters_null['Percentage of null values'] = name_clusters_null['Number of null values'] / len(name_clusters)\n",
    "name_clusters_null['Number of unique values'] = name_clusters.nunique()\n",
    "\n",
    "name_clusters_null"
   ]
  },
  {
   "cell_type": "markdown",
   "metadata": {},
   "source": [
    "## Relationship between datasets"
   ]
  },
  {
   "cell_type": "code",
   "execution_count": 72,
   "metadata": {},
   "outputs": [
    {
     "data": {
      "image/png": "[encoded data removed]",
      "text/plain": [
       "<Figure size 640x480 with 1 Axes>"
      ]
     },
     "metadata": {},
     "output_type": "display_data"
    }
   ],
   "source": [
    "# create a graph with four nodes, each representing a dataframe using networkx to model the dataframe's relationships\n",
    "\n",
    "G = nx.Graph()\n",
    "\n",
    "# add the four nodes to the graph (character_metadata, plot_summaries, movie_metadata, name_clusters)\n",
    "nodes = [\"character_metadata\", \"plot_summaries\", \"movie_metadata\", \"name_clusters\"]\n",
    "\n",
    "G.add_nodes_from(nodes)\n",
    "\n",
    "# add edges to the graph to represent the relationships between the dataframes\n",
    "\n",
    "G.add_edges_from([(\"character_metadata\", \"plot_summaries\"), (\"character_metadata\", \"movie_metadata\"), (\"character_metadata\", \"name_clusters\"),\n",
    "                  (\"plot_summaries\", \"movie_metadata\")])\n",
    "\n",
    "# add labels to the edges\n",
    "\n",
    "G.edges[\"character_metadata\", \"plot_summaries\"]['label'] = \"Wikipedia movie ID\"\n",
    "G.edges[\"character_metadata\", \"movie_metadata\"]['label'] = \"Wikipedia movie ID\\nFreebase movie ID\\nMovie release date\"\n",
    "G.edges[\"character_metadata\", \"name_clusters\"]['label'] = \"Character name\\nFreebase character/actor map ID\"\n",
    "G.edges[\"plot_summaries\", \"movie_metadata\"]['label'] = \"Wikipedia movie ID\" \n",
    "\n",
    "# plot the graph with edge labels\n",
    "\n",
    "pos = nx.spring_layout(G)\n",
    "nx.draw_networkx(G, pos)\n",
    "edge_labels = nx.get_edge_attributes(G,'label')\n",
    "nx.draw_networkx_edge_labels(G, pos, edge_labels = edge_labels)\n",
    "plt.show()"
   ]
  },
  {
   "cell_type": "markdown",
   "metadata": {},
   "source": [
    "#### character_metadata -> movie_metadata"
   ]
  },
  {
   "cell_type": "code",
   "execution_count": 73,
   "metadata": {},
   "outputs": [
    {
     "data": {
      "text/plain": [
       "Wikipedia movie ID\n",
       "True    450669\n",
       "Name: count, dtype: int64"
      ]
     },
     "execution_count": 73,
     "metadata": {},
     "output_type": "execute_result"
    }
   ],
   "source": [
    "# check if each value of the column Wikipedia movie ID of character_metadata appears in the column Wikipedia movie ID of movie_metadata\n",
    "\n",
    "character_metadata['Wikipedia movie ID'].isin(movie_metadata['Wikipedia movie ID']).value_counts()"
   ]
  },
  {
   "cell_type": "code",
   "execution_count": 74,
   "metadata": {},
   "outputs": [
    {
     "data": {
      "text/plain": [
       "Freebase movie ID\n",
       "True    450669\n",
       "Name: count, dtype: int64"
      ]
     },
     "execution_count": 74,
     "metadata": {},
     "output_type": "execute_result"
    }
   ],
   "source": [
    "# check if each value of the column Freebase movie ID of character_metadata appears in the column Freebase movie ID of movie_metadata\n",
    "\n",
    "character_metadata['Freebase movie ID'].isin(movie_metadata['Freebase movie ID']).value_counts()"
   ]
  },
  {
   "cell_type": "code",
   "execution_count": 75,
   "metadata": {},
   "outputs": [
    {
     "data": {
      "text/plain": [
       "Movie release date\n",
       "True    450669\n",
       "Name: count, dtype: int64"
      ]
     },
     "execution_count": 75,
     "metadata": {},
     "output_type": "execute_result"
    }
   ],
   "source": [
    "# check if each value of the column Movie release date of character_metadata appears in the column Movie release date of movie_metadata\n",
    "\n",
    "character_metadata['Movie release date'].isin(movie_metadata['Movie release date']).value_counts()"
   ]
  },
  {
   "cell_type": "markdown",
   "metadata": {},
   "source": [
    "#### movie_metadata -> character_metadata"
   ]
  },
  {
   "cell_type": "code",
   "execution_count": 76,
   "metadata": {},
   "outputs": [
    {
     "data": {
      "text/plain": [
       "Wikipedia movie ID\n",
       "True     64330\n",
       "False    17411\n",
       "Name: count, dtype: int64"
      ]
     },
     "execution_count": 76,
     "metadata": {},
     "output_type": "execute_result"
    }
   ],
   "source": [
    "# check if each value of the column Wikipedia movie ID of movie_metadata appears in the column Wikipedia movie ID of character_metadata\n",
    "\n",
    "movie_metadata['Wikipedia movie ID'].isin(character_metadata['Wikipedia movie ID']).value_counts()"
   ]
  },
  {
   "cell_type": "code",
   "execution_count": 77,
   "metadata": {},
   "outputs": [
    {
     "data": {
      "text/plain": [
       "Freebase movie ID\n",
       "True     64330\n",
       "False    17411\n",
       "Name: count, dtype: int64"
      ]
     },
     "execution_count": 77,
     "metadata": {},
     "output_type": "execute_result"
    }
   ],
   "source": [
    "# check if each value of the column Freebase movie ID of movie_metadata appears in the column Freebase movie ID of character_metadata\n",
    "\n",
    "movie_metadata['Freebase movie ID'].isin(character_metadata['Freebase movie ID']).value_counts()"
   ]
  },
  {
   "cell_type": "code",
   "execution_count": 78,
   "metadata": {},
   "outputs": [
    {
     "data": {
      "text/plain": [
       "Movie release date\n",
       "True     79613\n",
       "False     2128\n",
       "Name: count, dtype: int64"
      ]
     },
     "execution_count": 78,
     "metadata": {},
     "output_type": "execute_result"
    }
   ],
   "source": [
    "# check if each value of the column Movie release date of movie_metadata appears in the column Movie release date of character_metadata\n",
    "\n",
    "movie_metadata['Movie release date'].isin(character_metadata['Movie release date']).value_counts()"
   ]
  },
  {
   "cell_type": "markdown",
   "metadata": {},
   "source": [
    "#### character_metadata -> name_cluster"
   ]
  },
  {
   "cell_type": "code",
   "execution_count": 79,
   "metadata": {},
   "outputs": [
    {
     "data": {
      "text/plain": [
       "Character name\n",
       "False    446369\n",
       "True       4300\n",
       "Name: count, dtype: int64"
      ]
     },
     "execution_count": 79,
     "metadata": {},
     "output_type": "execute_result"
    }
   ],
   "source": [
    "# check if each value of the column Character name of character_metadata appears in the column Character name of name_clusters\n",
    "\n",
    "character_metadata['Character name'].isin(name_clusters['Character name']).value_counts()"
   ]
  },
  {
   "cell_type": "code",
   "execution_count": 80,
   "metadata": {},
   "outputs": [
    {
     "data": {
      "text/plain": [
       "Freebase character/actor map ID\n",
       "False    448008\n",
       "True       2661\n",
       "Name: count, dtype: int64"
      ]
     },
     "execution_count": 80,
     "metadata": {},
     "output_type": "execute_result"
    }
   ],
   "source": [
    "# check if each value of the column Freebase character/actor map ID of character_metadata appears in the column Freebase character/actor map ID of name_clusters\n",
    "\n",
    "character_metadata['Freebase character/actor map ID'].isin(name_clusters['Freebase character/actor map ID']).value_counts()"
   ]
  },
  {
   "cell_type": "markdown",
   "metadata": {},
   "source": [
    "#### name_cluster -> character_metadata"
   ]
  },
  {
   "cell_type": "code",
   "execution_count": 81,
   "metadata": {},
   "outputs": [
    {
     "data": {
      "text/plain": [
       "Character name\n",
       "True    2666\n",
       "Name: count, dtype: int64"
      ]
     },
     "execution_count": 81,
     "metadata": {},
     "output_type": "execute_result"
    }
   ],
   "source": [
    "# check if each value of the column Character name of name_clusters appears in the column Character name of character_metadata\n",
    "\n",
    "name_clusters['Character name'].isin(character_metadata['Character name']).value_counts()"
   ]
  },
  {
   "cell_type": "code",
   "execution_count": 82,
   "metadata": {},
   "outputs": [
    {
     "data": {
      "text/plain": [
       "Freebase character/actor map ID\n",
       "True    2666\n",
       "Name: count, dtype: int64"
      ]
     },
     "execution_count": 82,
     "metadata": {},
     "output_type": "execute_result"
    }
   ],
   "source": [
    "# check if each value of the column Freebase character/actor map ID of name_clusters appears in the column Freebase character/actor map ID of character_metadata\n",
    "\n",
    "name_clusters['Freebase character/actor map ID'].isin(character_metadata['Freebase character/actor map ID']).value_counts()"
   ]
  },
  {
   "cell_type": "markdown",
   "metadata": {},
   "source": [
    "#### character_metadata -> plot_summaries"
   ]
  },
  {
   "cell_type": "code",
   "execution_count": 83,
   "metadata": {},
   "outputs": [
    {
     "data": {
      "text/plain": [
       "Wikipedia movie ID\n",
       "True     308485\n",
       "False    142184\n",
       "Name: count, dtype: int64"
      ]
     },
     "execution_count": 83,
     "metadata": {},
     "output_type": "execute_result"
    }
   ],
   "source": [
    "# check if each value of the column Wikipedia movie ID of character_metadata appears in the column Wikipedia movie ID of plot_summaries\n",
    "\n",
    "character_metadata['Wikipedia movie ID'].isin(plot_summaries['Wikipedia movie ID']).value_counts()"
   ]
  },
  {
   "cell_type": "markdown",
   "metadata": {},
   "source": [
    "#### plot_summaries -> character_metadata"
   ]
  },
  {
   "cell_type": "code",
   "execution_count": 84,
   "metadata": {},
   "outputs": [
    {
     "data": {
      "text/plain": [
       "Wikipedia movie ID\n",
       "True     37779\n",
       "False     4524\n",
       "Name: count, dtype: int64"
      ]
     },
     "execution_count": 84,
     "metadata": {},
     "output_type": "execute_result"
    }
   ],
   "source": [
    "# check if each value of the column Wikipedia movie ID of plot_summaries appears in the column Wikipedia movie ID of character_metadata\n",
    "\n",
    "plot_summaries['Wikipedia movie ID'].isin(character_metadata['Wikipedia movie ID']).value_counts()"
   ]
  },
  {
   "cell_type": "markdown",
   "metadata": {},
   "source": [
    "#### movie_metadata -> plot_summaries"
   ]
  },
  {
   "cell_type": "code",
   "execution_count": 85,
   "metadata": {},
   "outputs": [
    {
     "data": {
      "text/plain": [
       "Wikipedia movie ID\n",
       "True     42204\n",
       "False    39537\n",
       "Name: count, dtype: int64"
      ]
     },
     "execution_count": 85,
     "metadata": {},
     "output_type": "execute_result"
    }
   ],
   "source": [
    "# check if each value of the column Wikipedia movie ID of movie_metadata appears in the column Wikipedia movie ID of plot_summaries\n",
    "\n",
    "movie_metadata['Wikipedia movie ID'].isin(plot_summaries['Wikipedia movie ID']).value_counts()"
   ]
  },
  {
   "cell_type": "markdown",
   "metadata": {},
   "source": [
    "#### plot_summaries -> movie_metadata"
   ]
  },
  {
   "cell_type": "code",
   "execution_count": 86,
   "metadata": {},
   "outputs": [
    {
     "data": {
      "text/plain": [
       "Wikipedia movie ID\n",
       "True     42204\n",
       "False       99\n",
       "Name: count, dtype: int64"
      ]
     },
     "execution_count": 86,
     "metadata": {},
     "output_type": "execute_result"
    }
   ],
   "source": [
    "# check if each value of the column Wikipedia movie ID of plot_summaries appears in the column Wikipedia movie ID of movie_metadata\n",
    "\n",
    "plot_summaries['Wikipedia movie ID'].isin(movie_metadata['Wikipedia movie ID']).value_counts()"
   ]
  },
  {
   "cell_type": "markdown",
   "metadata": {},
   "source": [
    "## Distribution"
   ]
  },
  {
   "cell_type": "markdown",
   "metadata": {},
   "source": [
    "Let's visualize the amount of film produced by each country"
   ]
  },
  {
   "cell_type": "code",
   "execution_count": 138,
   "metadata": {},
   "outputs": [
    {
     "data": {
      "image/png": "[encoded data removed]",
      "text/plain": [
       "<Figure size 1000x500 with 1 Axes>"
      ]
     },
     "metadata": {},
     "output_type": "display_data"
    }
   ],
   "source": [
    "# Converting the dictionnary structure to a list, and renaming the col\n",
    "country_list = pd.DataFrame(movie_metadata['Movie countries'].tolist())\n",
    "country_list.rename(columns={0: 'Movie countries'}, inplace=True)\n",
    "\n",
    "# Since some movie are coproduced by several countries, we seperate them into different rows. \n",
    "# This way, a film produced by two countries will account for +1 production for each country\n",
    "\n",
    "country_list = country_list['Movie countries'].str.split(', ', expand=True)\n",
    "\n",
    "# Droping NAN and converting to a Dataframe\n",
    "country_stacked = country_list.stack().dropna().rename('Movie countries')\n",
    "country_stacked = pd.DataFrame(country_stacked)\n",
    "\n",
    "# Drop rows where 'Movie countries' is an empty string '{}'\n",
    "country_stacked = country_stacked[country_stacked['Movie countries'] != '{}']\n",
    "\n",
    "# Counting the number of movies produced by country\n",
    "country_count = country_stacked.groupby(['Movie countries']).size()\n",
    "country_count.head()\n",
    "\n",
    "\n",
    "# Plotting top 10 countries with most movies produced\n",
    "country_count.sort_values(ascending=False).head(10).plot(kind='bar', figsize=(10,5), title='Top 10 countries with most movies produced')\n",
    "plt.ylabel('Number of movies produced')\n",
    "plt.show()\n",
    "\n"
   ]
  },
  {
   "cell_type": "markdown",
   "metadata": {},
   "source": [
    "We can see that a large number of film are profuced by USA, followed by India and United Kingdom. We can analyzing the percentage of film they produced or coproduced."
   ]
  },
  {
   "cell_type": "code",
   "execution_count": 140,
   "metadata": {},
   "outputs": [
    {
     "name": "stdout",
     "output_type": "stream",
     "text": [
      "Percentage of movies produced by USA:  35.05362162912574 %\n",
      "Percentage of movies produced by India:  9.53273406679855 %\n",
      "Percentage of movies produced by UK :  6.181237635789401 %\n"
     ]
    }
   ],
   "source": [
    "# Percentage of movies produced by USA and India\n",
    "\n",
    "# Sorting the values in descending order\n",
    "country_sorted = country_count.sort_values(ascending=False)\n",
    "\n",
    "# Printing the percentage of movies produced by USA and India\n",
    "print('Percentage of movies produced by USA: ', country_sorted[0].sum() / country_count.sum() * 100, '%')\n",
    "print('Percentage of movies produced by India: ', country_sorted[1].sum() / country_count.sum() * 100, '%')\n",
    "print('Percentage of movies produced by UK : ', country_sorted[2].sum() / country_count.sum() * 100, '%')"
   ]
  },
  {
   "cell_type": "code",
   "execution_count": null,
   "metadata": {},
   "outputs": [],
   "source": []
  }
 ],
 "metadata": {
  "kernelspec": {
   "display_name": "Python 3.9.18 ('ada')",
   "language": "python",
   "name": "python3"
  },
  "language_info": {
   "codemirror_mode": {
    "name": "ipython",
    "version": 3
   },
   "file_extension": ".py",
   "mimetype": "text/x-python",
   "name": "python",
   "nbconvert_exporter": "python",
   "pygments_lexer": "ipython3",
   "version": "3.9.18"
  },
  "vscode": {
   "interpreter": {
    "hash": "f1d2b43bd698bca00020350d3765f677888d058a2261b5c7945cd505f2e2f5e9"
   }
  }
 },
 "nbformat": 4,
 "nbformat_minor": 2
}
