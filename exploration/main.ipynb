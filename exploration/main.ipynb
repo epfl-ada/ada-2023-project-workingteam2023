{
 "cells": [
  {
   "cell_type": "code",
   "execution_count": 1,
   "metadata": {},
   "outputs": [],
   "source": [
    "import pandas as pd\n",
    "import matplotlib.pyplot as plt\n",
    "import ast\n",
    "import requests\n",
    "from scipy import stats\n",
    "import seaborn as sns\n",
    "import datetime\n",
    "import numpy as np\n",
    "\n",
    "from helpers import *"
   ]
  },
  {
   "cell_type": "markdown",
   "metadata": {},
   "source": [
    "# 0. Loading the data"
   ]
  },
  {
   "cell_type": "code",
   "execution_count": 2,
   "metadata": {},
   "outputs": [],
   "source": [
    "#load data/moviesummaries/character.metadata.tsv\n",
    "character_metadata = pd.read_csv('../data/moviesummaries/character.metadata.tsv', sep='\\t', header=None)\n",
    "\n",
    "#load data/moviesummaries/plot_summaries.txt\n",
    "plot_summaries = pd.read_csv('../data/moviesummaries/plot_summaries.txt', sep='\\t', header=None)\n",
    "\n",
    "#load data/moviesummaries/movie.metadata.tsv\n",
    "movie_metadata = pd.read_csv('../data/moviesummaries/movie.metadata.tsv', sep='\\t', header=None)\n",
    "\n",
    "#load data/moviesummaries/name.clusters.txt\n",
    "name_clusters = pd.read_csv('../data/moviesummaries/name.clusters.txt', sep='\\t', header=None)\n"
   ]
  },
  {
   "cell_type": "code",
   "execution_count": 3,
   "metadata": {},
   "outputs": [],
   "source": [
    "# Rename columns of each dataset to match documentation\n",
    "character_metadata.columns = [\"Wikipedia movie ID\", \"Freebase movie ID\", \"Movie release date\", \"Character name\", \"Actor date of birth\", \"Actor gender\", \n",
    "                              \"Actor height\", \"Actor ethnicity\", \"Actor name\", \"Actor age\", \"Freebase character/actor map ID\", \n",
    "                              \"Freebase character ID\", \"Freebase actor ID\"]\n",
    "\n",
    "plot_summaries.columns = [\"Wikipedia movie ID\", \"Summary\"]\n",
    "\n",
    "movie_metadata.columns = [\"Wikipedia movie ID\", \"Freebase movie ID\", \"Movie name\", \"Movie release date\", \"Movie revenue\", \"Movie runtime\",\n",
    "                          \"Movie languages\", \"Movie countries\", \"Movie genres\"]\n",
    "\n",
    "name_clusters.columns = [\"Character name\", \"Freebase character/actor map ID\"]"
   ]
  },
  {
   "cell_type": "markdown",
   "metadata": {},
   "source": [
    "We get 4 different dataframes; we'll merge movie_metadata and plot_summaries together since it makes sense to get the plot information directly linked with the movie metadata, and keep the others as is."
   ]
  },
  {
   "cell_type": "markdown",
   "metadata": {},
   "source": [
    "# 1. Preprocessing plot and metadata about movies"
   ]
  },
  {
   "cell_type": "markdown",
   "metadata": {},
   "source": [
    "We can see from the columns name that we can simply add the plot summaries of the movies to the movie metadata dataframe. Let's first take a look at how many data we have in each dataset :"
   ]
  },
  {
   "cell_type": "code",
   "execution_count": 4,
   "metadata": {},
   "outputs": [
    {
     "name": "stdout",
     "output_type": "stream",
     "text": [
      "Number of data in the metadata dataframe : 81741\n",
      "Number of data in the plot summaries dataframe : 42303\n"
     ]
    }
   ],
   "source": [
    "# Print the size of plot and meta_data dataset\n",
    "print(\"Number of data in the metadata dataframe :\", movie_metadata.shape[0])\n",
    "print(\"Number of data in the plot summaries dataframe :\", plot_summaries.shape[0])"
   ]
  },
  {
   "cell_type": "markdown",
   "metadata": {},
   "source": [
    "We can see that approximately half of the movies in the metadata have a plot description. Let's first check if 'Wikipedia movie ID' can be used as a unique key to merge the two dataframes :"
   ]
  },
  {
   "cell_type": "code",
   "execution_count": 5,
   "metadata": {},
   "outputs": [
    {
     "name": "stdout",
     "output_type": "stream",
     "text": [
      "Numbers of duplicated Wikipedia movie ID in the metadata dataframe :  0\n",
      "Numbers of duplicated Wikipedia movie ID in the plot summaries dataframe :  0\n"
     ]
    }
   ],
   "source": [
    "# Find out how many duplicates there are in the datasets\n",
    "print(\"Numbers of duplicated Wikipedia movie ID in the metadata dataframe : \", movie_metadata[\"Wikipedia movie ID\"].duplicated().sum())\n",
    "print(\"Numbers of duplicated Wikipedia movie ID in the plot summaries dataframe : \", plot_summaries[\"Wikipedia movie ID\"].duplicated().sum())"
   ]
  },
  {
   "cell_type": "markdown",
   "metadata": {},
   "source": [
    "We can see that there are no duplicates in the Wikipedia movie ID column, so we can use it as a unique key to merge the two dataframes. Let's do it; We merge the two dataframes 'left' on the Wikipedia movie ID column, so that we keep all the movies in the metadata dataframe, even those that doesn't have a plot description."
   ]
  },
  {
   "cell_type": "code",
   "execution_count": 6,
   "metadata": {},
   "outputs": [
    {
     "data": {
      "text/html": [
       "<div>\n",
       "<style scoped>\n",
       "    .dataframe tbody tr th:only-of-type {\n",
       "        vertical-align: middle;\n",
       "    }\n",
       "\n",
       "    .dataframe tbody tr th {\n",
       "        vertical-align: top;\n",
       "    }\n",
       "\n",
       "    .dataframe thead th {\n",
       "        text-align: right;\n",
       "    }\n",
       "</style>\n",
       "<table border=\"1\" class=\"dataframe\">\n",
       "  <thead>\n",
       "    <tr style=\"text-align: right;\">\n",
       "      <th></th>\n",
       "      <th>Wikipedia movie ID</th>\n",
       "      <th>Freebase movie ID</th>\n",
       "      <th>Movie name</th>\n",
       "      <th>Movie release date</th>\n",
       "      <th>Movie revenue</th>\n",
       "      <th>Movie runtime</th>\n",
       "      <th>Movie languages</th>\n",
       "      <th>Movie countries</th>\n",
       "      <th>Movie genres</th>\n",
       "      <th>Summary</th>\n",
       "    </tr>\n",
       "  </thead>\n",
       "  <tbody>\n",
       "    <tr>\n",
       "      <th>0</th>\n",
       "      <td>975900</td>\n",
       "      <td>/m/03vyhn</td>\n",
       "      <td>Ghosts of Mars</td>\n",
       "      <td>2001-08-24</td>\n",
       "      <td>14010832.0</td>\n",
       "      <td>98.0</td>\n",
       "      <td>{\"/m/02h40lc\": \"English Language\"}</td>\n",
       "      <td>{\"/m/09c7w0\": \"United States of America\"}</td>\n",
       "      <td>{\"/m/01jfsb\": \"Thriller\", \"/m/06n90\": \"Science...</td>\n",
       "      <td>Set in the second half of the 22nd century, th...</td>\n",
       "    </tr>\n",
       "    <tr>\n",
       "      <th>1</th>\n",
       "      <td>3196793</td>\n",
       "      <td>/m/08yl5d</td>\n",
       "      <td>Getting Away with Murder: The JonBenét Ramsey ...</td>\n",
       "      <td>2000-02-16</td>\n",
       "      <td>NaN</td>\n",
       "      <td>95.0</td>\n",
       "      <td>{\"/m/02h40lc\": \"English Language\"}</td>\n",
       "      <td>{\"/m/09c7w0\": \"United States of America\"}</td>\n",
       "      <td>{\"/m/02n4kr\": \"Mystery\", \"/m/03bxz7\": \"Biograp...</td>\n",
       "      <td>NaN</td>\n",
       "    </tr>\n",
       "    <tr>\n",
       "      <th>2</th>\n",
       "      <td>28463795</td>\n",
       "      <td>/m/0crgdbh</td>\n",
       "      <td>Brun bitter</td>\n",
       "      <td>1988</td>\n",
       "      <td>NaN</td>\n",
       "      <td>83.0</td>\n",
       "      <td>{\"/m/05f_3\": \"Norwegian Language\"}</td>\n",
       "      <td>{\"/m/05b4w\": \"Norway\"}</td>\n",
       "      <td>{\"/m/0lsxr\": \"Crime Fiction\", \"/m/07s9rl0\": \"D...</td>\n",
       "      <td>NaN</td>\n",
       "    </tr>\n",
       "    <tr>\n",
       "      <th>3</th>\n",
       "      <td>9363483</td>\n",
       "      <td>/m/0285_cd</td>\n",
       "      <td>White Of The Eye</td>\n",
       "      <td>1987</td>\n",
       "      <td>NaN</td>\n",
       "      <td>110.0</td>\n",
       "      <td>{\"/m/02h40lc\": \"English Language\"}</td>\n",
       "      <td>{\"/m/07ssc\": \"United Kingdom\"}</td>\n",
       "      <td>{\"/m/01jfsb\": \"Thriller\", \"/m/0glj9q\": \"Erotic...</td>\n",
       "      <td>A series of murders of rich young women throug...</td>\n",
       "    </tr>\n",
       "    <tr>\n",
       "      <th>4</th>\n",
       "      <td>261236</td>\n",
       "      <td>/m/01mrr1</td>\n",
       "      <td>A Woman in Flames</td>\n",
       "      <td>1983</td>\n",
       "      <td>NaN</td>\n",
       "      <td>106.0</td>\n",
       "      <td>{\"/m/04306rv\": \"German Language\"}</td>\n",
       "      <td>{\"/m/0345h\": \"Germany\"}</td>\n",
       "      <td>{\"/m/07s9rl0\": \"Drama\"}</td>\n",
       "      <td>Eva, an upper class housewife, becomes frustra...</td>\n",
       "    </tr>\n",
       "  </tbody>\n",
       "</table>\n",
       "</div>"
      ],
      "text/plain": [
       "   Wikipedia movie ID Freebase movie ID  \\\n",
       "0              975900         /m/03vyhn   \n",
       "1             3196793         /m/08yl5d   \n",
       "2            28463795        /m/0crgdbh   \n",
       "3             9363483        /m/0285_cd   \n",
       "4              261236         /m/01mrr1   \n",
       "\n",
       "                                          Movie name Movie release date  \\\n",
       "0                                     Ghosts of Mars         2001-08-24   \n",
       "1  Getting Away with Murder: The JonBenét Ramsey ...         2000-02-16   \n",
       "2                                        Brun bitter               1988   \n",
       "3                                   White Of The Eye               1987   \n",
       "4                                  A Woman in Flames               1983   \n",
       "\n",
       "   Movie revenue  Movie runtime                     Movie languages  \\\n",
       "0     14010832.0           98.0  {\"/m/02h40lc\": \"English Language\"}   \n",
       "1            NaN           95.0  {\"/m/02h40lc\": \"English Language\"}   \n",
       "2            NaN           83.0  {\"/m/05f_3\": \"Norwegian Language\"}   \n",
       "3            NaN          110.0  {\"/m/02h40lc\": \"English Language\"}   \n",
       "4            NaN          106.0   {\"/m/04306rv\": \"German Language\"}   \n",
       "\n",
       "                             Movie countries  \\\n",
       "0  {\"/m/09c7w0\": \"United States of America\"}   \n",
       "1  {\"/m/09c7w0\": \"United States of America\"}   \n",
       "2                     {\"/m/05b4w\": \"Norway\"}   \n",
       "3             {\"/m/07ssc\": \"United Kingdom\"}   \n",
       "4                    {\"/m/0345h\": \"Germany\"}   \n",
       "\n",
       "                                        Movie genres  \\\n",
       "0  {\"/m/01jfsb\": \"Thriller\", \"/m/06n90\": \"Science...   \n",
       "1  {\"/m/02n4kr\": \"Mystery\", \"/m/03bxz7\": \"Biograp...   \n",
       "2  {\"/m/0lsxr\": \"Crime Fiction\", \"/m/07s9rl0\": \"D...   \n",
       "3  {\"/m/01jfsb\": \"Thriller\", \"/m/0glj9q\": \"Erotic...   \n",
       "4                            {\"/m/07s9rl0\": \"Drama\"}   \n",
       "\n",
       "                                             Summary  \n",
       "0  Set in the second half of the 22nd century, th...  \n",
       "1                                                NaN  \n",
       "2                                                NaN  \n",
       "3  A series of murders of rich young women throug...  \n",
       "4  Eva, an upper class housewife, becomes frustra...  "
      ]
     },
     "execution_count": 6,
     "metadata": {},
     "output_type": "execute_result"
    }
   ],
   "source": [
    "# Merge 'left' the movie_metadata and plot_summaries dataframes on the Wikipedia movie ID column\n",
    "all_movies = movie_metadata.merge(plot_summaries, on=\"Wikipedia movie ID\", how=\"left\")\n",
    "all_movies.head()"
   ]
  },
  {
   "cell_type": "code",
   "execution_count": 7,
   "metadata": {},
   "outputs": [
    {
     "name": "stdout",
     "output_type": "stream",
     "text": [
      "(81741, 10)\n"
     ]
    },
    {
     "data": {
      "text/html": [
       "<div>\n",
       "<style scoped>\n",
       "    .dataframe tbody tr th:only-of-type {\n",
       "        vertical-align: middle;\n",
       "    }\n",
       "\n",
       "    .dataframe tbody tr th {\n",
       "        vertical-align: top;\n",
       "    }\n",
       "\n",
       "    .dataframe thead th {\n",
       "        text-align: right;\n",
       "    }\n",
       "</style>\n",
       "<table border=\"1\" class=\"dataframe\">\n",
       "  <thead>\n",
       "    <tr style=\"text-align: right;\">\n",
       "      <th></th>\n",
       "      <th>Number of null values</th>\n",
       "      <th>Percentage of null values</th>\n",
       "      <th>Number of unique values</th>\n",
       "    </tr>\n",
       "  </thead>\n",
       "  <tbody>\n",
       "    <tr>\n",
       "      <th>Wikipedia movie ID</th>\n",
       "      <td>0</td>\n",
       "      <td>0.000000</td>\n",
       "      <td>81741</td>\n",
       "    </tr>\n",
       "    <tr>\n",
       "      <th>Freebase movie ID</th>\n",
       "      <td>0</td>\n",
       "      <td>0.000000</td>\n",
       "      <td>81741</td>\n",
       "    </tr>\n",
       "    <tr>\n",
       "      <th>Movie name</th>\n",
       "      <td>0</td>\n",
       "      <td>0.000000</td>\n",
       "      <td>75478</td>\n",
       "    </tr>\n",
       "    <tr>\n",
       "      <th>Movie release date</th>\n",
       "      <td>6902</td>\n",
       "      <td>0.084437</td>\n",
       "      <td>20389</td>\n",
       "    </tr>\n",
       "    <tr>\n",
       "      <th>Movie revenue</th>\n",
       "      <td>73340</td>\n",
       "      <td>0.897224</td>\n",
       "      <td>7362</td>\n",
       "    </tr>\n",
       "    <tr>\n",
       "      <th>Movie runtime</th>\n",
       "      <td>20450</td>\n",
       "      <td>0.250180</td>\n",
       "      <td>597</td>\n",
       "    </tr>\n",
       "    <tr>\n",
       "      <th>Movie languages</th>\n",
       "      <td>0</td>\n",
       "      <td>0.000000</td>\n",
       "      <td>1817</td>\n",
       "    </tr>\n",
       "    <tr>\n",
       "      <th>Movie countries</th>\n",
       "      <td>0</td>\n",
       "      <td>0.000000</td>\n",
       "      <td>2124</td>\n",
       "    </tr>\n",
       "    <tr>\n",
       "      <th>Movie genres</th>\n",
       "      <td>0</td>\n",
       "      <td>0.000000</td>\n",
       "      <td>23817</td>\n",
       "    </tr>\n",
       "    <tr>\n",
       "      <th>Summary</th>\n",
       "      <td>39537</td>\n",
       "      <td>0.483686</td>\n",
       "      <td>42196</td>\n",
       "    </tr>\n",
       "  </tbody>\n",
       "</table>\n",
       "</div>"
      ],
      "text/plain": [
       "                    Number of null values  Percentage of null values  \\\n",
       "Wikipedia movie ID                      0                   0.000000   \n",
       "Freebase movie ID                       0                   0.000000   \n",
       "Movie name                              0                   0.000000   \n",
       "Movie release date                   6902                   0.084437   \n",
       "Movie revenue                       73340                   0.897224   \n",
       "Movie runtime                       20450                   0.250180   \n",
       "Movie languages                         0                   0.000000   \n",
       "Movie countries                         0                   0.000000   \n",
       "Movie genres                            0                   0.000000   \n",
       "Summary                             39537                   0.483686   \n",
       "\n",
       "                    Number of unique values  \n",
       "Wikipedia movie ID                    81741  \n",
       "Freebase movie ID                     81741  \n",
       "Movie name                            75478  \n",
       "Movie release date                    20389  \n",
       "Movie revenue                          7362  \n",
       "Movie runtime                           597  \n",
       "Movie languages                        1817  \n",
       "Movie countries                        2124  \n",
       "Movie genres                          23817  \n",
       "Summary                               42196  "
      ]
     },
     "execution_count": 7,
     "metadata": {},
     "output_type": "execute_result"
    }
   ],
   "source": [
    "# Check the number and percentage of null values in each column of plot_summaries as well as the number of different values in each column.\n",
    "all_movies_null = pd.DataFrame(all_movies.isnull().sum(), columns=['Number of null values'])\n",
    "all_movies_null['Percentage of null values'] = all_movies_null['Number of null values'] / len(all_movies)\n",
    "all_movies_null['Number of unique values'] = all_movies.nunique()\n",
    "\n",
    "print(all_movies.shape)\n",
    "all_movies_null\n"
   ]
  },
  {
   "cell_type": "markdown",
   "metadata": {},
   "source": [
    "As mentioned above, we see that approximately 48% percent of the movie dataset doesn't have a corresponding plot summary!\n",
    "\n",
    "But what about dupplicated plot summaries? It's very unlikely that 2 movies have the exact same entry, but let's check that :"
   ]
  },
  {
   "cell_type": "code",
   "execution_count": 8,
   "metadata": {},
   "outputs": [
    {
     "name": "stdout",
     "output_type": "stream",
     "text": [
      "Number of plot summaries having at least one duplicate : 5\n"
     ]
    },
    {
     "data": {
      "text/html": [
       "<div>\n",
       "<style scoped>\n",
       "    .dataframe tbody tr th:only-of-type {\n",
       "        vertical-align: middle;\n",
       "    }\n",
       "\n",
       "    .dataframe tbody tr th {\n",
       "        vertical-align: top;\n",
       "    }\n",
       "\n",
       "    .dataframe thead th {\n",
       "        text-align: right;\n",
       "    }\n",
       "</style>\n",
       "<table border=\"1\" class=\"dataframe\">\n",
       "  <thead>\n",
       "    <tr style=\"text-align: right;\">\n",
       "      <th></th>\n",
       "      <th>Wikipedia movie ID</th>\n",
       "      <th>Movie name</th>\n",
       "      <th>Summary</th>\n",
       "    </tr>\n",
       "  </thead>\n",
       "  <tbody>\n",
       "    <tr>\n",
       "      <th>4551</th>\n",
       "      <td>14055212</td>\n",
       "      <td>The Trial of Madame X</td>\n",
       "      <td>A woman is thrown out of her home by her jealo...</td>\n",
       "    </tr>\n",
       "    <tr>\n",
       "      <th>18993</th>\n",
       "      <td>14022275</td>\n",
       "      <td>Madame X</td>\n",
       "      <td>A woman is thrown out of her home by her jealo...</td>\n",
       "    </tr>\n",
       "    <tr>\n",
       "      <th>49381</th>\n",
       "      <td>14037732</td>\n",
       "      <td>Madame X</td>\n",
       "      <td>A woman is thrown out of her home by her jealo...</td>\n",
       "    </tr>\n",
       "    <tr>\n",
       "      <th>57569</th>\n",
       "      <td>14051944</td>\n",
       "      <td>Madame X</td>\n",
       "      <td>A woman is thrown out of her home by her jealo...</td>\n",
       "    </tr>\n",
       "    <tr>\n",
       "      <th>65014</th>\n",
       "      <td>14053389</td>\n",
       "      <td>Madame X</td>\n",
       "      <td>A woman is thrown out of her home by her jealo...</td>\n",
       "    </tr>\n",
       "    <tr>\n",
       "      <th>28621</th>\n",
       "      <td>29481480</td>\n",
       "      <td>Drohi</td>\n",
       "      <td>An orphan Raghav turns into a ruthless contrac...</td>\n",
       "    </tr>\n",
       "    <tr>\n",
       "      <th>67464</th>\n",
       "      <td>25493367</td>\n",
       "      <td>Antham</td>\n",
       "      <td>An orphan Raghav turns into a ruthless contrac...</td>\n",
       "    </tr>\n",
       "    <tr>\n",
       "      <th>15783</th>\n",
       "      <td>14616220</td>\n",
       "      <td>The Warrens of Virginia</td>\n",
       "      <td>As the American Civil War begins, Ned Burton l...</td>\n",
       "    </tr>\n",
       "    <tr>\n",
       "      <th>57508</th>\n",
       "      <td>28852030</td>\n",
       "      <td>The Warrens of Virginia</td>\n",
       "      <td>As the American Civil War begins, Ned Burton l...</td>\n",
       "    </tr>\n",
       "    <tr>\n",
       "      <th>22185</th>\n",
       "      <td>19609453</td>\n",
       "      <td>Amar Deep</td>\n",
       "      <td>Raja was adopted by a criminal don  at a very ...</td>\n",
       "    </tr>\n",
       "    <tr>\n",
       "      <th>32255</th>\n",
       "      <td>20904516</td>\n",
       "      <td>Amar Deep</td>\n",
       "      <td>Raja was adopted by a criminal don  at a very ...</td>\n",
       "    </tr>\n",
       "    <tr>\n",
       "      <th>59142</th>\n",
       "      <td>10791937</td>\n",
       "      <td>Ninaithale Inikkum</td>\n",
       "      <td>Taking a step aside from the usual serious dra...</td>\n",
       "    </tr>\n",
       "    <tr>\n",
       "      <th>59148</th>\n",
       "      <td>10791940</td>\n",
       "      <td>Andhamaina Anubhavam</td>\n",
       "      <td>Taking a step aside from the usual serious dra...</td>\n",
       "    </tr>\n",
       "  </tbody>\n",
       "</table>\n",
       "</div>"
      ],
      "text/plain": [
       "       Wikipedia movie ID               Movie name  \\\n",
       "4551             14055212    The Trial of Madame X   \n",
       "18993            14022275                 Madame X   \n",
       "49381            14037732                 Madame X   \n",
       "57569            14051944                 Madame X   \n",
       "65014            14053389                 Madame X   \n",
       "28621            29481480                    Drohi   \n",
       "67464            25493367                   Antham   \n",
       "15783            14616220  The Warrens of Virginia   \n",
       "57508            28852030  The Warrens of Virginia   \n",
       "22185            19609453                Amar Deep   \n",
       "32255            20904516                Amar Deep   \n",
       "59142            10791937       Ninaithale Inikkum   \n",
       "59148            10791940     Andhamaina Anubhavam   \n",
       "\n",
       "                                                 Summary  \n",
       "4551   A woman is thrown out of her home by her jealo...  \n",
       "18993  A woman is thrown out of her home by her jealo...  \n",
       "49381  A woman is thrown out of her home by her jealo...  \n",
       "57569  A woman is thrown out of her home by her jealo...  \n",
       "65014  A woman is thrown out of her home by her jealo...  \n",
       "28621  An orphan Raghav turns into a ruthless contrac...  \n",
       "67464  An orphan Raghav turns into a ruthless contrac...  \n",
       "15783  As the American Civil War begins, Ned Burton l...  \n",
       "57508  As the American Civil War begins, Ned Burton l...  \n",
       "22185  Raja was adopted by a criminal don  at a very ...  \n",
       "32255  Raja was adopted by a criminal don  at a very ...  \n",
       "59142  Taking a step aside from the usual serious dra...  \n",
       "59148  Taking a step aside from the usual serious dra...  "
      ]
     },
     "execution_count": 8,
     "metadata": {},
     "output_type": "execute_result"
    }
   ],
   "source": [
    "# Show plot summary duplicates which are not NaNs\n",
    "duplicate_plot_movies = all_movies[all_movies.duplicated(subset=['Summary'], keep = False) & all_movies['Summary'].notnull()]\n",
    "\n",
    "# Print number of plot summaries having at least one duplicate\n",
    "print(\"Number of plot summaries having at least one duplicate :\", duplicate_plot_movies['Summary'].nunique())\n",
    "\n",
    "duplicate_plot_movies[['Wikipedia movie ID', 'Movie name', 'Summary']].sort_values(by=['Summary'])\n"
   ]
  },
  {
   "cell_type": "markdown",
   "metadata": {},
   "source": [
    "We see that there are 5 different plot summaries that have at least one duplicate! In some cases, the duplicate has the same movie name but in other cases, the duplicate has a different movie name. "
   ]
  },
  {
   "cell_type": "code",
   "execution_count": 9,
   "metadata": {},
   "outputs": [
    {
     "data": {
      "text/html": [
       "<div>\n",
       "<style scoped>\n",
       "    .dataframe tbody tr th:only-of-type {\n",
       "        vertical-align: middle;\n",
       "    }\n",
       "\n",
       "    .dataframe tbody tr th {\n",
       "        vertical-align: top;\n",
       "    }\n",
       "\n",
       "    .dataframe thead th {\n",
       "        text-align: right;\n",
       "    }\n",
       "</style>\n",
       "<table border=\"1\" class=\"dataframe\">\n",
       "  <thead>\n",
       "    <tr style=\"text-align: right;\">\n",
       "      <th></th>\n",
       "      <th>Wikipedia movie ID</th>\n",
       "      <th>Freebase movie ID</th>\n",
       "      <th>Movie name</th>\n",
       "      <th>Movie release date</th>\n",
       "      <th>Movie revenue</th>\n",
       "      <th>Movie runtime</th>\n",
       "      <th>Movie languages</th>\n",
       "      <th>Movie countries</th>\n",
       "      <th>Movie genres</th>\n",
       "      <th>Summary</th>\n",
       "    </tr>\n",
       "  </thead>\n",
       "  <tbody>\n",
       "    <tr>\n",
       "      <th>77623</th>\n",
       "      <td>33545325</td>\n",
       "      <td>/m/0hgpm4_</td>\n",
       "      <td>A Sister to Assist 'Er</td>\n",
       "      <td>NaN</td>\n",
       "      <td>NaN</td>\n",
       "      <td>NaN</td>\n",
       "      <td>{}</td>\n",
       "      <td>{}</td>\n",
       "      <td>{\"/m/05p553\": \"Comedy film\"}</td>\n",
       "      <td>NaN</td>\n",
       "    </tr>\n",
       "    <tr>\n",
       "      <th>74307</th>\n",
       "      <td>33545395</td>\n",
       "      <td>/m/0hgrll0</td>\n",
       "      <td>A Sister to Assist 'Er</td>\n",
       "      <td>NaN</td>\n",
       "      <td>NaN</td>\n",
       "      <td>64.0</td>\n",
       "      <td>{}</td>\n",
       "      <td>{}</td>\n",
       "      <td>{\"/m/05p553\": \"Comedy film\"}</td>\n",
       "      <td>NaN</td>\n",
       "    </tr>\n",
       "    <tr>\n",
       "      <th>38544</th>\n",
       "      <td>33545449</td>\n",
       "      <td>/m/0hgrdzf</td>\n",
       "      <td>A Sister to Assist 'Er</td>\n",
       "      <td>NaN</td>\n",
       "      <td>NaN</td>\n",
       "      <td>59.0</td>\n",
       "      <td>{}</td>\n",
       "      <td>{}</td>\n",
       "      <td>{\"/m/05p553\": \"Comedy film\"}</td>\n",
       "      <td>NaN</td>\n",
       "    </tr>\n",
       "    <tr>\n",
       "      <th>35927</th>\n",
       "      <td>33545359</td>\n",
       "      <td>/m/0hgm4mx</td>\n",
       "      <td>A Sister to Assist 'Er</td>\n",
       "      <td>NaN</td>\n",
       "      <td>NaN</td>\n",
       "      <td>NaN</td>\n",
       "      <td>{}</td>\n",
       "      <td>{}</td>\n",
       "      <td>{\"/m/05p553\": \"Comedy film\"}</td>\n",
       "      <td>NaN</td>\n",
       "    </tr>\n",
       "    <tr>\n",
       "      <th>25277</th>\n",
       "      <td>33545423</td>\n",
       "      <td>/m/0hgnyld</td>\n",
       "      <td>A Sister to Assist 'Er</td>\n",
       "      <td>NaN</td>\n",
       "      <td>NaN</td>\n",
       "      <td>72.0</td>\n",
       "      <td>{}</td>\n",
       "      <td>{}</td>\n",
       "      <td>{\"/m/05p553\": \"Comedy film\"}</td>\n",
       "      <td>NaN</td>\n",
       "    </tr>\n",
       "    <tr>\n",
       "      <th>640</th>\n",
       "      <td>32505827</td>\n",
       "      <td>/m/0h1cbks</td>\n",
       "      <td>Dost</td>\n",
       "      <td>NaN</td>\n",
       "      <td>NaN</td>\n",
       "      <td>NaN</td>\n",
       "      <td>{\"/m/03k50\": \"Hindi Language\"}</td>\n",
       "      <td>{\"/m/03rk0\": \"India\"}</td>\n",
       "      <td>{}</td>\n",
       "      <td>NaN</td>\n",
       "    </tr>\n",
       "    <tr>\n",
       "      <th>75111</th>\n",
       "      <td>32517667</td>\n",
       "      <td>/m/0h1dthj</td>\n",
       "      <td>Dost</td>\n",
       "      <td>NaN</td>\n",
       "      <td>NaN</td>\n",
       "      <td>NaN</td>\n",
       "      <td>{\"/m/03k50\": \"Hindi Language\"}</td>\n",
       "      <td>{\"/m/03rk0\": \"India\"}</td>\n",
       "      <td>{}</td>\n",
       "      <td>NaN</td>\n",
       "    </tr>\n",
       "    <tr>\n",
       "      <th>34621</th>\n",
       "      <td>32524274</td>\n",
       "      <td>/m/0h1f4gk</td>\n",
       "      <td>Dost</td>\n",
       "      <td>2004-05-03</td>\n",
       "      <td>NaN</td>\n",
       "      <td>NaN</td>\n",
       "      <td>{\"/m/09s02\": \"Telugu language\"}</td>\n",
       "      <td>{\"/m/03rk0\": \"India\"}</td>\n",
       "      <td>{\"/m/07s9rl0\": \"Drama\"}</td>\n",
       "      <td>NaN</td>\n",
       "    </tr>\n",
       "    <tr>\n",
       "      <th>16646</th>\n",
       "      <td>32496356</td>\n",
       "      <td>/m/0h1bj0k</td>\n",
       "      <td>Dost</td>\n",
       "      <td>1989</td>\n",
       "      <td>NaN</td>\n",
       "      <td>150.0</td>\n",
       "      <td>{\"/m/03k50\": \"Hindi Language\"}</td>\n",
       "      <td>{\"/m/03rk0\": \"India\"}</td>\n",
       "      <td>{\"/m/04t36\": \"Musical\", \"/m/07s9rl0\": \"Drama\",...</td>\n",
       "      <td>Sher Singh  and his son Nagender  are involved...</td>\n",
       "    </tr>\n",
       "    <tr>\n",
       "      <th>31058</th>\n",
       "      <td>10699428</td>\n",
       "      <td>/m/02qmlnp</td>\n",
       "      <td>Dost</td>\n",
       "      <td>1974</td>\n",
       "      <td>NaN</td>\n",
       "      <td>166.0</td>\n",
       "      <td>{\"/m/03k50\": \"Hindi Language\", \"/m/02hxcvy\": \"...</td>\n",
       "      <td>{\"/m/03rk0\": \"India\"}</td>\n",
       "      <td>{\"/m/01chg\": \"Bollywood\"}</td>\n",
       "      <td>Maanav is an orphan who was brought up by a Ca...</td>\n",
       "    </tr>\n",
       "    <tr>\n",
       "      <th>7009</th>\n",
       "      <td>9386528</td>\n",
       "      <td>/m/0286tgz</td>\n",
       "      <td>Horizontal Axis</td>\n",
       "      <td>NaN</td>\n",
       "      <td>NaN</td>\n",
       "      <td>NaN</td>\n",
       "      <td>{}</td>\n",
       "      <td>{}</td>\n",
       "      <td>{\"/m/02hmvc\": \"Short Film\"}</td>\n",
       "      <td>NaN</td>\n",
       "    </tr>\n",
       "    <tr>\n",
       "      <th>79631</th>\n",
       "      <td>9386447</td>\n",
       "      <td>/m/0286tdx</td>\n",
       "      <td>Horizontal Axis</td>\n",
       "      <td>NaN</td>\n",
       "      <td>NaN</td>\n",
       "      <td>NaN</td>\n",
       "      <td>{}</td>\n",
       "      <td>{}</td>\n",
       "      <td>{\"/m/02hmvc\": \"Short Film\"}</td>\n",
       "      <td>NaN</td>\n",
       "    </tr>\n",
       "    <tr>\n",
       "      <th>22389</th>\n",
       "      <td>20696066</td>\n",
       "      <td>/m/051zc20</td>\n",
       "      <td>My Wife's Family</td>\n",
       "      <td>NaN</td>\n",
       "      <td>NaN</td>\n",
       "      <td>NaN</td>\n",
       "      <td>{}</td>\n",
       "      <td>{\"/m/07ssc\": \"United Kingdom\"}</td>\n",
       "      <td>{\"/m/01z4y\": \"Comedy\"}</td>\n",
       "      <td>NaN</td>\n",
       "    </tr>\n",
       "    <tr>\n",
       "      <th>9911</th>\n",
       "      <td>20695929</td>\n",
       "      <td>/m/051zsk3</td>\n",
       "      <td>My Wife's Family</td>\n",
       "      <td>NaN</td>\n",
       "      <td>NaN</td>\n",
       "      <td>NaN</td>\n",
       "      <td>{}</td>\n",
       "      <td>{\"/m/07ssc\": \"United Kingdom\"}</td>\n",
       "      <td>{\"/m/01z4y\": \"Comedy\"}</td>\n",
       "      <td>NaN</td>\n",
       "    </tr>\n",
       "    <tr>\n",
       "      <th>79063</th>\n",
       "      <td>28345206</td>\n",
       "      <td>/m/0cnzrqq</td>\n",
       "      <td>Woman to Woman</td>\n",
       "      <td>1923</td>\n",
       "      <td>NaN</td>\n",
       "      <td>82.0</td>\n",
       "      <td>{}</td>\n",
       "      <td>{\"/m/07ssc\": \"United Kingdom\"}</td>\n",
       "      <td>{\"/m/06ppq\": \"Silent film\"}</td>\n",
       "      <td>NaN</td>\n",
       "    </tr>\n",
       "    <tr>\n",
       "      <th>53387</th>\n",
       "      <td>31255791</td>\n",
       "      <td>/m/0gjf1sq</td>\n",
       "      <td>Woman to Woman</td>\n",
       "      <td>NaN</td>\n",
       "      <td>NaN</td>\n",
       "      <td>NaN</td>\n",
       "      <td>{}</td>\n",
       "      <td>{}</td>\n",
       "      <td>{\"/m/02l7c8\": \"Romance Film\", \"/m/07s9rl0\": \"D...</td>\n",
       "      <td>NaN</td>\n",
       "    </tr>\n",
       "    <tr>\n",
       "      <th>6010</th>\n",
       "      <td>31255600</td>\n",
       "      <td>/m/0gjb35n</td>\n",
       "      <td>Woman to Woman</td>\n",
       "      <td>NaN</td>\n",
       "      <td>NaN</td>\n",
       "      <td>NaN</td>\n",
       "      <td>{}</td>\n",
       "      <td>{}</td>\n",
       "      <td>{\"/m/02l7c8\": \"Romance Film\", \"/m/07s9rl0\": \"D...</td>\n",
       "      <td>NaN</td>\n",
       "    </tr>\n",
       "  </tbody>\n",
       "</table>\n",
       "</div>"
      ],
      "text/plain": [
       "       Wikipedia movie ID Freebase movie ID              Movie name  \\\n",
       "77623            33545325        /m/0hgpm4_  A Sister to Assist 'Er   \n",
       "74307            33545395        /m/0hgrll0  A Sister to Assist 'Er   \n",
       "38544            33545449        /m/0hgrdzf  A Sister to Assist 'Er   \n",
       "35927            33545359        /m/0hgm4mx  A Sister to Assist 'Er   \n",
       "25277            33545423        /m/0hgnyld  A Sister to Assist 'Er   \n",
       "640              32505827        /m/0h1cbks                    Dost   \n",
       "75111            32517667        /m/0h1dthj                    Dost   \n",
       "34621            32524274        /m/0h1f4gk                    Dost   \n",
       "16646            32496356        /m/0h1bj0k                    Dost   \n",
       "31058            10699428        /m/02qmlnp                    Dost   \n",
       "7009              9386528        /m/0286tgz         Horizontal Axis   \n",
       "79631             9386447        /m/0286tdx         Horizontal Axis   \n",
       "22389            20696066        /m/051zc20        My Wife's Family   \n",
       "9911             20695929        /m/051zsk3        My Wife's Family   \n",
       "79063            28345206        /m/0cnzrqq          Woman to Woman   \n",
       "53387            31255791        /m/0gjf1sq          Woman to Woman   \n",
       "6010             31255600        /m/0gjb35n          Woman to Woman   \n",
       "\n",
       "      Movie release date  Movie revenue  Movie runtime  \\\n",
       "77623                NaN            NaN            NaN   \n",
       "74307                NaN            NaN           64.0   \n",
       "38544                NaN            NaN           59.0   \n",
       "35927                NaN            NaN            NaN   \n",
       "25277                NaN            NaN           72.0   \n",
       "640                  NaN            NaN            NaN   \n",
       "75111                NaN            NaN            NaN   \n",
       "34621         2004-05-03            NaN            NaN   \n",
       "16646               1989            NaN          150.0   \n",
       "31058               1974            NaN          166.0   \n",
       "7009                 NaN            NaN            NaN   \n",
       "79631                NaN            NaN            NaN   \n",
       "22389                NaN            NaN            NaN   \n",
       "9911                 NaN            NaN            NaN   \n",
       "79063               1923            NaN           82.0   \n",
       "53387                NaN            NaN            NaN   \n",
       "6010                 NaN            NaN            NaN   \n",
       "\n",
       "                                         Movie languages  \\\n",
       "77623                                                 {}   \n",
       "74307                                                 {}   \n",
       "38544                                                 {}   \n",
       "35927                                                 {}   \n",
       "25277                                                 {}   \n",
       "640                       {\"/m/03k50\": \"Hindi Language\"}   \n",
       "75111                     {\"/m/03k50\": \"Hindi Language\"}   \n",
       "34621                    {\"/m/09s02\": \"Telugu language\"}   \n",
       "16646                     {\"/m/03k50\": \"Hindi Language\"}   \n",
       "31058  {\"/m/03k50\": \"Hindi Language\", \"/m/02hxcvy\": \"...   \n",
       "7009                                                  {}   \n",
       "79631                                                 {}   \n",
       "22389                                                 {}   \n",
       "9911                                                  {}   \n",
       "79063                                                 {}   \n",
       "53387                                                 {}   \n",
       "6010                                                  {}   \n",
       "\n",
       "                      Movie countries  \\\n",
       "77623                              {}   \n",
       "74307                              {}   \n",
       "38544                              {}   \n",
       "35927                              {}   \n",
       "25277                              {}   \n",
       "640             {\"/m/03rk0\": \"India\"}   \n",
       "75111           {\"/m/03rk0\": \"India\"}   \n",
       "34621           {\"/m/03rk0\": \"India\"}   \n",
       "16646           {\"/m/03rk0\": \"India\"}   \n",
       "31058           {\"/m/03rk0\": \"India\"}   \n",
       "7009                               {}   \n",
       "79631                              {}   \n",
       "22389  {\"/m/07ssc\": \"United Kingdom\"}   \n",
       "9911   {\"/m/07ssc\": \"United Kingdom\"}   \n",
       "79063  {\"/m/07ssc\": \"United Kingdom\"}   \n",
       "53387                              {}   \n",
       "6010                               {}   \n",
       "\n",
       "                                            Movie genres  \\\n",
       "77623                       {\"/m/05p553\": \"Comedy film\"}   \n",
       "74307                       {\"/m/05p553\": \"Comedy film\"}   \n",
       "38544                       {\"/m/05p553\": \"Comedy film\"}   \n",
       "35927                       {\"/m/05p553\": \"Comedy film\"}   \n",
       "25277                       {\"/m/05p553\": \"Comedy film\"}   \n",
       "640                                                   {}   \n",
       "75111                                                 {}   \n",
       "34621                            {\"/m/07s9rl0\": \"Drama\"}   \n",
       "16646  {\"/m/04t36\": \"Musical\", \"/m/07s9rl0\": \"Drama\",...   \n",
       "31058                          {\"/m/01chg\": \"Bollywood\"}   \n",
       "7009                         {\"/m/02hmvc\": \"Short Film\"}   \n",
       "79631                        {\"/m/02hmvc\": \"Short Film\"}   \n",
       "22389                             {\"/m/01z4y\": \"Comedy\"}   \n",
       "9911                              {\"/m/01z4y\": \"Comedy\"}   \n",
       "79063                        {\"/m/06ppq\": \"Silent film\"}   \n",
       "53387  {\"/m/02l7c8\": \"Romance Film\", \"/m/07s9rl0\": \"D...   \n",
       "6010   {\"/m/02l7c8\": \"Romance Film\", \"/m/07s9rl0\": \"D...   \n",
       "\n",
       "                                                 Summary  \n",
       "77623                                                NaN  \n",
       "74307                                                NaN  \n",
       "38544                                                NaN  \n",
       "35927                                                NaN  \n",
       "25277                                                NaN  \n",
       "640                                                  NaN  \n",
       "75111                                                NaN  \n",
       "34621                                                NaN  \n",
       "16646  Sher Singh  and his son Nagender  are involved...  \n",
       "31058  Maanav is an orphan who was brought up by a Ca...  \n",
       "7009                                                 NaN  \n",
       "79631                                                NaN  \n",
       "22389                                                NaN  \n",
       "9911                                                 NaN  \n",
       "79063                                                NaN  \n",
       "53387                                                NaN  \n",
       "6010                                                 NaN  "
      ]
     },
     "execution_count": 9,
     "metadata": {},
     "output_type": "execute_result"
    }
   ],
   "source": [
    "# Check for duplicates on all columns except for the ID columns\n",
    "check_duplicates = all_movies[all_movies.duplicated(subset=[\"Movie name\", \"Movie release date\", \"Movie revenue\", \"Movie languages\", \"Movie genres\", \"Movie countries\", \"Movie runtime\", \"Summary\"], keep=False)]\n",
    "duplicated_movie_names = check_duplicates[\"Movie name\"].unique()\n",
    "\n",
    "# filter all_movies to keep only the movies with name in duplicated_movie_names\n",
    "duplicated_movies = all_movies[all_movies[\"Movie name\"].isin(duplicated_movie_names)]\n",
    "\n",
    "# sort by movie name\n",
    "duplicated_movies.sort_values(by=[\"Movie name\"])"
   ]
  },
  {
   "cell_type": "markdown",
   "metadata": {},
   "source": [
    "# ????\n",
    "idk pourquoi ca print aussi des trucs qui sont pas duplicated en dessus, mais en tout cas y'en a des vrais donc faut en faire qqch (drop un des deux random)"
   ]
  },
  {
   "cell_type": "markdown",
   "metadata": {},
   "source": [
    "We notice that those films, even though they have strictly the same plot summary, are different movies. In fact, by looking at the Wikipedia page [Madame X (disambiguation)](https://en.wikipedia.org/wiki/Madame_X_(disambiguation)), we can cleary see why that is so. Those movies are simply different versions of the same story, produced in different countries, in different years, and the plot summary is the same for all of them. Our theory is that it was simply copied from one version to the other when the Wikipedia pages were created.\n",
    "\n",
    " We can therefore keep them as is."
   ]
  },
  {
   "cell_type": "markdown",
   "metadata": {},
   "source": [
    "## Data cleaning"
   ]
  },
  {
   "cell_type": "markdown",
   "metadata": {},
   "source": [
    "### Movie release date\n"
   ]
  },
  {
   "cell_type": "markdown",
   "metadata": {},
   "source": [
    "Let's now take a look at the movies release dates. By looking at the data, we see 4 cases :\n",
    " - The release date is a year \n",
    " - The release date is a month and a year \n",
    " - The release date is a day, a month and a year \n",
    " - The release date is not a number\n",
    "\n",
    "Let's convert every entry to only a year when it's possible :"
   ]
  },
  {
   "cell_type": "markdown",
   "metadata": {},
   "source": [
    "Defining three functions checking which format is valid for a specific string"
   ]
  },
  {
   "cell_type": "code",
   "execution_count": 10,
   "metadata": {},
   "outputs": [
    {
     "data": {
      "text/html": [
       "<div>\n",
       "<style scoped>\n",
       "    .dataframe tbody tr th:only-of-type {\n",
       "        vertical-align: middle;\n",
       "    }\n",
       "\n",
       "    .dataframe tbody tr th {\n",
       "        vertical-align: top;\n",
       "    }\n",
       "\n",
       "    .dataframe thead th {\n",
       "        text-align: right;\n",
       "    }\n",
       "</style>\n",
       "<table border=\"1\" class=\"dataframe\">\n",
       "  <thead>\n",
       "    <tr style=\"text-align: right;\">\n",
       "      <th></th>\n",
       "      <th>Wikipedia movie ID</th>\n",
       "      <th>Freebase movie ID</th>\n",
       "      <th>Movie release date</th>\n",
       "      <th>Character name</th>\n",
       "      <th>Actor date of birth</th>\n",
       "      <th>Actor gender</th>\n",
       "      <th>Actor height</th>\n",
       "      <th>Actor ethnicity</th>\n",
       "      <th>Actor name</th>\n",
       "      <th>Actor age</th>\n",
       "      <th>Freebase character/actor map ID</th>\n",
       "      <th>Freebase character ID</th>\n",
       "      <th>Freebase actor ID</th>\n",
       "    </tr>\n",
       "  </thead>\n",
       "  <tbody>\n",
       "    <tr>\n",
       "      <th>122263</th>\n",
       "      <td>607673</td>\n",
       "      <td>/m/02v_mx</td>\n",
       "      <td>1985-06-28</td>\n",
       "      <td>Leslie Hunter</td>\n",
       "      <td>1962-06-13</td>\n",
       "      <td>F</td>\n",
       "      <td>1.650</td>\n",
       "      <td>/m/048z7l</td>\n",
       "      <td>Ally Sheedy</td>\n",
       "      <td>23.0</td>\n",
       "      <td>/m/03jr7jt</td>\n",
       "      <td>/m/02rt4hw</td>\n",
       "      <td>/m/02f8lw</td>\n",
       "    </tr>\n",
       "    <tr>\n",
       "      <th>215928</th>\n",
       "      <td>5937490</td>\n",
       "      <td>/m/0ffgdy</td>\n",
       "      <td>2005-11-26</td>\n",
       "      <td>NaN</td>\n",
       "      <td>NaN</td>\n",
       "      <td>M</td>\n",
       "      <td>NaN</td>\n",
       "      <td>/m/0dryh9k</td>\n",
       "      <td>Kishore</td>\n",
       "      <td>NaN</td>\n",
       "      <td>/m/0gccrtp</td>\n",
       "      <td>NaN</td>\n",
       "      <td>/m/076vyjv</td>\n",
       "    </tr>\n",
       "    <tr>\n",
       "      <th>47772</th>\n",
       "      <td>20903216</td>\n",
       "      <td>/m/05b655t</td>\n",
       "      <td>1975</td>\n",
       "      <td>Javed Ahmed Gulrez</td>\n",
       "      <td>1954-09-08</td>\n",
       "      <td>M</td>\n",
       "      <td>NaN</td>\n",
       "      <td>NaN</td>\n",
       "      <td>Satish Kaul</td>\n",
       "      <td>20.0</td>\n",
       "      <td>/m/0k15lb5</td>\n",
       "      <td>/m/0k15lb8</td>\n",
       "      <td>/m/05p6mwc</td>\n",
       "    </tr>\n",
       "    <tr>\n",
       "      <th>355655</th>\n",
       "      <td>21954355</td>\n",
       "      <td>/m/05p9p5d</td>\n",
       "      <td>1986-05-09</td>\n",
       "      <td>NaN</td>\n",
       "      <td>1958-02-19</td>\n",
       "      <td>M</td>\n",
       "      <td>NaN</td>\n",
       "      <td>NaN</td>\n",
       "      <td>Martin Hewitt</td>\n",
       "      <td>28.0</td>\n",
       "      <td>/m/05td_rr</td>\n",
       "      <td>NaN</td>\n",
       "      <td>/m/0768dh</td>\n",
       "    </tr>\n",
       "    <tr>\n",
       "      <th>403861</th>\n",
       "      <td>26068451</td>\n",
       "      <td>/m/0b6hvsg</td>\n",
       "      <td>2003-03-12</td>\n",
       "      <td>NaN</td>\n",
       "      <td>1964</td>\n",
       "      <td>M</td>\n",
       "      <td>NaN</td>\n",
       "      <td>NaN</td>\n",
       "      <td>Yavuz Bingöl</td>\n",
       "      <td>39.0</td>\n",
       "      <td>/m/0b6vyw9</td>\n",
       "      <td>NaN</td>\n",
       "      <td>/m/01sn_d9</td>\n",
       "    </tr>\n",
       "    <tr>\n",
       "      <th>204246</th>\n",
       "      <td>9719711</td>\n",
       "      <td>/m/02pq38x</td>\n",
       "      <td>1938-03-10</td>\n",
       "      <td>NaN</td>\n",
       "      <td>NaN</td>\n",
       "      <td>M</td>\n",
       "      <td>NaN</td>\n",
       "      <td>NaN</td>\n",
       "      <td>Froilán Varela</td>\n",
       "      <td>NaN</td>\n",
       "      <td>/m/0jb5q6b</td>\n",
       "      <td>NaN</td>\n",
       "      <td>/m/0j9dl3r</td>\n",
       "    </tr>\n",
       "    <tr>\n",
       "      <th>277808</th>\n",
       "      <td>5940203</td>\n",
       "      <td>/m/0ffm9w</td>\n",
       "      <td>2005</td>\n",
       "      <td>Elena</td>\n",
       "      <td>1979-11-08</td>\n",
       "      <td>F</td>\n",
       "      <td>1.638</td>\n",
       "      <td>NaN</td>\n",
       "      <td>Dania Ramirez</td>\n",
       "      <td>25.0</td>\n",
       "      <td>/m/0h2vvs2</td>\n",
       "      <td>/m/0h2vvs5</td>\n",
       "      <td>/m/06h994</td>\n",
       "    </tr>\n",
       "    <tr>\n",
       "      <th>352306</th>\n",
       "      <td>8558102</td>\n",
       "      <td>/m/0277tzz</td>\n",
       "      <td>1975</td>\n",
       "      <td>NaN</td>\n",
       "      <td>1940-05-22</td>\n",
       "      <td>M</td>\n",
       "      <td>NaN</td>\n",
       "      <td>/m/044038p</td>\n",
       "      <td>Michael Sarrazin</td>\n",
       "      <td>34.0</td>\n",
       "      <td>/m/02tbh9s</td>\n",
       "      <td>NaN</td>\n",
       "      <td>/m/07kr93</td>\n",
       "    </tr>\n",
       "    <tr>\n",
       "      <th>106790</th>\n",
       "      <td>976512</td>\n",
       "      <td>/m/03v_6t</td>\n",
       "      <td>1981-10-31</td>\n",
       "      <td>NaN</td>\n",
       "      <td>1943-11-02</td>\n",
       "      <td>F</td>\n",
       "      <td>NaN</td>\n",
       "      <td>NaN</td>\n",
       "      <td>Imogene Claire</td>\n",
       "      <td>37.0</td>\n",
       "      <td>/m/0k01zdg</td>\n",
       "      <td>NaN</td>\n",
       "      <td>/m/0j__zcs</td>\n",
       "    </tr>\n",
       "    <tr>\n",
       "      <th>147434</th>\n",
       "      <td>8959527</td>\n",
       "      <td>/m/027r8zp</td>\n",
       "      <td>1964</td>\n",
       "      <td>NaN</td>\n",
       "      <td>NaN</td>\n",
       "      <td>NaN</td>\n",
       "      <td>NaN</td>\n",
       "      <td>NaN</td>\n",
       "      <td>Ulvi Dogan</td>\n",
       "      <td>NaN</td>\n",
       "      <td>/m/0b_qyml</td>\n",
       "      <td>NaN</td>\n",
       "      <td>/m/0b_qymj</td>\n",
       "    </tr>\n",
       "  </tbody>\n",
       "</table>\n",
       "</div>"
      ],
      "text/plain": [
       "        Wikipedia movie ID Freebase movie ID Movie release date  \\\n",
       "122263              607673         /m/02v_mx         1985-06-28   \n",
       "215928             5937490         /m/0ffgdy         2005-11-26   \n",
       "47772             20903216        /m/05b655t               1975   \n",
       "355655            21954355        /m/05p9p5d         1986-05-09   \n",
       "403861            26068451        /m/0b6hvsg         2003-03-12   \n",
       "204246             9719711        /m/02pq38x         1938-03-10   \n",
       "277808             5940203         /m/0ffm9w               2005   \n",
       "352306             8558102        /m/0277tzz               1975   \n",
       "106790              976512         /m/03v_6t         1981-10-31   \n",
       "147434             8959527        /m/027r8zp               1964   \n",
       "\n",
       "            Character name Actor date of birth Actor gender  Actor height  \\\n",
       "122263       Leslie Hunter          1962-06-13            F         1.650   \n",
       "215928                 NaN                 NaN            M           NaN   \n",
       "47772   Javed Ahmed Gulrez          1954-09-08            M           NaN   \n",
       "355655                 NaN          1958-02-19            M           NaN   \n",
       "403861                 NaN                1964            M           NaN   \n",
       "204246                 NaN                 NaN            M           NaN   \n",
       "277808               Elena          1979-11-08            F         1.638   \n",
       "352306                 NaN          1940-05-22            M           NaN   \n",
       "106790                 NaN          1943-11-02            F           NaN   \n",
       "147434                 NaN                 NaN          NaN           NaN   \n",
       "\n",
       "       Actor ethnicity        Actor name  Actor age  \\\n",
       "122263       /m/048z7l       Ally Sheedy       23.0   \n",
       "215928      /m/0dryh9k           Kishore        NaN   \n",
       "47772              NaN       Satish Kaul       20.0   \n",
       "355655             NaN     Martin Hewitt       28.0   \n",
       "403861             NaN      Yavuz Bingöl       39.0   \n",
       "204246             NaN    Froilán Varela        NaN   \n",
       "277808             NaN     Dania Ramirez       25.0   \n",
       "352306      /m/044038p  Michael Sarrazin       34.0   \n",
       "106790             NaN    Imogene Claire       37.0   \n",
       "147434             NaN        Ulvi Dogan        NaN   \n",
       "\n",
       "       Freebase character/actor map ID Freebase character ID Freebase actor ID  \n",
       "122263                      /m/03jr7jt            /m/02rt4hw         /m/02f8lw  \n",
       "215928                      /m/0gccrtp                   NaN        /m/076vyjv  \n",
       "47772                       /m/0k15lb5            /m/0k15lb8        /m/05p6mwc  \n",
       "355655                      /m/05td_rr                   NaN         /m/0768dh  \n",
       "403861                      /m/0b6vyw9                   NaN        /m/01sn_d9  \n",
       "204246                      /m/0jb5q6b                   NaN        /m/0j9dl3r  \n",
       "277808                      /m/0h2vvs2            /m/0h2vvs5         /m/06h994  \n",
       "352306                      /m/02tbh9s                   NaN         /m/07kr93  \n",
       "106790                      /m/0k01zdg                   NaN        /m/0j__zcs  \n",
       "147434                      /m/0b_qyml                   NaN        /m/0b_qymj  "
      ]
     },
     "execution_count": 10,
     "metadata": {},
     "output_type": "execute_result"
    }
   ],
   "source": [
    "character_metadata.sample(10)"
   ]
  },
  {
   "cell_type": "markdown",
   "metadata": {},
   "source": [
    "Converting the movie release date to keep only the year for the all_movie table :"
   ]
  },
  {
   "cell_type": "code",
   "execution_count": 11,
   "metadata": {},
   "outputs": [],
   "source": [
    "all_movies['Movie release date'] = keep_the_year(all_movies['Movie release date'], key='Movie release date')"
   ]
  },
  {
   "cell_type": "markdown",
   "metadata": {},
   "source": [
    "### Dictionnary structures"
   ]
  },
  {
   "cell_type": "code",
   "execution_count": 12,
   "metadata": {},
   "outputs": [
    {
     "name": "stdout",
     "output_type": "stream",
     "text": [
      "{\"/m/09c7w0\": \"United States of America\"}\n",
      "<class 'str'>\n",
      "{\"/m/01jfsb\": \"Thriller\", \"/m/06n90\": \"Science Fiction\", \"/m/03npn\": \"Horror\", \"/m/03k9fj\": \"Adventure\", \"/m/0fdjb\": \"Supernatural\", \"/m/02kdv5l\": \"Action\", \"/m/09zvmj\": \"Space western\"}\n",
      "<class 'str'>\n",
      "{\"/m/02h40lc\": \"English Language\"}\n",
      "<class 'str'>\n"
     ]
    }
   ],
   "source": [
    "# Print examples of the 'Movie countries', 'Movie genres' and 'Movie languages' columns as well as their types\n",
    "print(all_movies['Movie countries'].iloc[0])\n",
    "print(type(all_movies['Movie countries'].iloc[0]))\n",
    "print(all_movies['Movie genres'].iloc[0])\n",
    "print(type(all_movies['Movie genres'].iloc[0]))\n",
    "print(all_movies['Movie languages'].iloc[0])\n",
    "print(type(all_movies['Movie languages'].iloc[0]))"
   ]
  },
  {
   "cell_type": "markdown",
   "metadata": {},
   "source": [
    "We see that some columns are written as a dictionnary but saved as a string. \n",
    "\n",
    "Three columns are concerned by this problem:\n",
    "- Movie languages (Freebase ID:name tuples)\n",
    "- Movie countries (Freebase ID:name tuples)\n",
    "- Movie genres (Freebase ID:name tuples)\n",
    "\n",
    "Since we will not use the Freebase IDs, let's only keep the values of these dicts as lists."
   ]
  },
  {
   "cell_type": "code",
   "execution_count": 13,
   "metadata": {},
   "outputs": [
    {
     "name": "stdout",
     "output_type": "stream",
     "text": [
      "['United States of America']\n",
      "<class 'list'>\n",
      "['Thriller', 'Science Fiction', 'Horror', 'Adventure', 'Supernatural', 'Action', 'Space western']\n",
      "<class 'list'>\n",
      "['English Language']\n",
      "<class 'list'>\n"
     ]
    }
   ],
   "source": [
    "all_movies['Movie genres'] = [list(eval(genre).values()) for genre in all_movies['Movie genres']]\n",
    "all_movies['Movie languages'] = [list(eval(genre).values()) for genre in all_movies['Movie languages']]\n",
    "all_movies['Movie countries'] = [list(eval(genre).values()) for genre in all_movies['Movie countries']]\n",
    "print(all_movies['Movie countries'].iloc[0])\n",
    "print(type(all_movies['Movie countries'].iloc[0]))\n",
    "print(all_movies['Movie genres'].iloc[0])\n",
    "print(type(all_movies['Movie genres'].iloc[0]))\n",
    "print(all_movies['Movie languages'].iloc[0])\n",
    "print(type(all_movies['Movie languages'].iloc[0]))"
   ]
  },
  {
   "cell_type": "markdown",
   "metadata": {},
   "source": [
    "Now, we have a proper dataframe containing metadata and plot summaries about movies: all_movies"
   ]
  },
  {
   "cell_type": "markdown",
   "metadata": {},
   "source": [
    "# 2. Preprocessing characters metadata"
   ]
  },
  {
   "cell_type": "code",
   "execution_count": 14,
   "metadata": {},
   "outputs": [
    {
     "data": {
      "text/html": [
       "<div>\n",
       "<style scoped>\n",
       "    .dataframe tbody tr th:only-of-type {\n",
       "        vertical-align: middle;\n",
       "    }\n",
       "\n",
       "    .dataframe tbody tr th {\n",
       "        vertical-align: top;\n",
       "    }\n",
       "\n",
       "    .dataframe thead th {\n",
       "        text-align: right;\n",
       "    }\n",
       "</style>\n",
       "<table border=\"1\" class=\"dataframe\">\n",
       "  <thead>\n",
       "    <tr style=\"text-align: right;\">\n",
       "      <th></th>\n",
       "      <th>Wikipedia movie ID</th>\n",
       "      <th>Freebase movie ID</th>\n",
       "      <th>Movie release date</th>\n",
       "      <th>Character name</th>\n",
       "      <th>Actor date of birth</th>\n",
       "      <th>Actor gender</th>\n",
       "      <th>Actor height</th>\n",
       "      <th>Actor ethnicity</th>\n",
       "      <th>Actor name</th>\n",
       "      <th>Actor age</th>\n",
       "      <th>Freebase character/actor map ID</th>\n",
       "      <th>Freebase character ID</th>\n",
       "      <th>Freebase actor ID</th>\n",
       "    </tr>\n",
       "  </thead>\n",
       "  <tbody>\n",
       "    <tr>\n",
       "      <th>191908</th>\n",
       "      <td>6007108</td>\n",
       "      <td>/m/0fk9t5</td>\n",
       "      <td>2000-09-15</td>\n",
       "      <td>NaN</td>\n",
       "      <td>1967-09-25</td>\n",
       "      <td>F</td>\n",
       "      <td>NaN</td>\n",
       "      <td>/m/03gy1h2</td>\n",
       "      <td>Melissa De Sousa</td>\n",
       "      <td>32.0</td>\n",
       "      <td>/m/03jq0s_</td>\n",
       "      <td>NaN</td>\n",
       "      <td>/m/026r73s</td>\n",
       "    </tr>\n",
       "    <tr>\n",
       "      <th>15809</th>\n",
       "      <td>25466355</td>\n",
       "      <td>/m/09k7b3y</td>\n",
       "      <td>2010-03-13</td>\n",
       "      <td>NaN</td>\n",
       "      <td>1982-03-02</td>\n",
       "      <td>M</td>\n",
       "      <td>1.78</td>\n",
       "      <td>NaN</td>\n",
       "      <td>Mike Nugent</td>\n",
       "      <td>28.0</td>\n",
       "      <td>/m/0h4nwt0</td>\n",
       "      <td>NaN</td>\n",
       "      <td>/m/05_hcg</td>\n",
       "    </tr>\n",
       "    <tr>\n",
       "      <th>198289</th>\n",
       "      <td>23994350</td>\n",
       "      <td>/m/07k51_d</td>\n",
       "      <td>2005</td>\n",
       "      <td>NaN</td>\n",
       "      <td>1970-10-15</td>\n",
       "      <td>M</td>\n",
       "      <td>1.85</td>\n",
       "      <td>NaN</td>\n",
       "      <td>Zak Orth</td>\n",
       "      <td>34.0</td>\n",
       "      <td>/m/07llvkp</td>\n",
       "      <td>NaN</td>\n",
       "      <td>/m/0cg65w</td>\n",
       "    </tr>\n",
       "    <tr>\n",
       "      <th>44732</th>\n",
       "      <td>10030316</td>\n",
       "      <td>/m/03bxvj3</td>\n",
       "      <td>1983-11-09</td>\n",
       "      <td>NaN</td>\n",
       "      <td>1931-05-27</td>\n",
       "      <td>M</td>\n",
       "      <td>NaN</td>\n",
       "      <td>NaN</td>\n",
       "      <td>Bernard Fresson</td>\n",
       "      <td>52.0</td>\n",
       "      <td>/m/0c1llgw</td>\n",
       "      <td>NaN</td>\n",
       "      <td>/m/02pg_2n</td>\n",
       "    </tr>\n",
       "    <tr>\n",
       "      <th>78594</th>\n",
       "      <td>12423448</td>\n",
       "      <td>/m/02w4wyh</td>\n",
       "      <td>2007</td>\n",
       "      <td>NaN</td>\n",
       "      <td>1974-09-06</td>\n",
       "      <td>M</td>\n",
       "      <td>1.71</td>\n",
       "      <td>NaN</td>\n",
       "      <td>Justin Whalin</td>\n",
       "      <td>32.0</td>\n",
       "      <td>/m/03jqd33</td>\n",
       "      <td>NaN</td>\n",
       "      <td>/m/062tjf</td>\n",
       "    </tr>\n",
       "    <tr>\n",
       "      <th>234955</th>\n",
       "      <td>31506755</td>\n",
       "      <td>/m/0glntr4</td>\n",
       "      <td>NaN</td>\n",
       "      <td>NaN</td>\n",
       "      <td>1905-12-05</td>\n",
       "      <td>F</td>\n",
       "      <td>NaN</td>\n",
       "      <td>NaN</td>\n",
       "      <td>Natalia Pavlovna Paley</td>\n",
       "      <td>NaN</td>\n",
       "      <td>/m/0gw3cpd</td>\n",
       "      <td>NaN</td>\n",
       "      <td>/m/076ywv</td>\n",
       "    </tr>\n",
       "    <tr>\n",
       "      <th>446901</th>\n",
       "      <td>5136480</td>\n",
       "      <td>/m/0d4f24</td>\n",
       "      <td>1991-01-18</td>\n",
       "      <td>NaN</td>\n",
       "      <td>1946-07-22</td>\n",
       "      <td>M</td>\n",
       "      <td>1.92</td>\n",
       "      <td>/m/0x67</td>\n",
       "      <td>Danny Glover</td>\n",
       "      <td>44.0</td>\n",
       "      <td>/m/0jy9d_</td>\n",
       "      <td>NaN</td>\n",
       "      <td>/m/0205dx</td>\n",
       "    </tr>\n",
       "    <tr>\n",
       "      <th>276373</th>\n",
       "      <td>22076070</td>\n",
       "      <td>/m/05p0fkf</td>\n",
       "      <td>1957-03-21</td>\n",
       "      <td>Valeria</td>\n",
       "      <td>1944-10-02</td>\n",
       "      <td>F</td>\n",
       "      <td>NaN</td>\n",
       "      <td>NaN</td>\n",
       "      <td>Serena Michelotti</td>\n",
       "      <td>12.0</td>\n",
       "      <td>/m/0mzg0sj</td>\n",
       "      <td>/m/0mzpqbl</td>\n",
       "      <td>/m/0ggh0l5</td>\n",
       "    </tr>\n",
       "    <tr>\n",
       "      <th>440618</th>\n",
       "      <td>30102446</td>\n",
       "      <td>/m/0g55z15</td>\n",
       "      <td>2011</td>\n",
       "      <td>NaN</td>\n",
       "      <td>1976-09-03</td>\n",
       "      <td>M</td>\n",
       "      <td>1.77</td>\n",
       "      <td>/m/0dryh9k</td>\n",
       "      <td>Vivek Oberoi</td>\n",
       "      <td>34.0</td>\n",
       "      <td>/m/0gw1d18</td>\n",
       "      <td>NaN</td>\n",
       "      <td>/m/03w7jt</td>\n",
       "    </tr>\n",
       "    <tr>\n",
       "      <th>216747</th>\n",
       "      <td>25619875</td>\n",
       "      <td>/m/09v71cj</td>\n",
       "      <td>2011-03-16</td>\n",
       "      <td>Meredith Black</td>\n",
       "      <td>1962-11-19</td>\n",
       "      <td>F</td>\n",
       "      <td>1.60</td>\n",
       "      <td>/m/09vc4s</td>\n",
       "      <td>Jodie Foster</td>\n",
       "      <td>48.0</td>\n",
       "      <td>/m/0cg2qpn</td>\n",
       "      <td>/m/0gkbdx4</td>\n",
       "      <td>/m/0chw_</td>\n",
       "    </tr>\n",
       "  </tbody>\n",
       "</table>\n",
       "</div>"
      ],
      "text/plain": [
       "        Wikipedia movie ID Freebase movie ID Movie release date  \\\n",
       "191908             6007108         /m/0fk9t5         2000-09-15   \n",
       "15809             25466355        /m/09k7b3y         2010-03-13   \n",
       "198289            23994350        /m/07k51_d               2005   \n",
       "44732             10030316        /m/03bxvj3         1983-11-09   \n",
       "78594             12423448        /m/02w4wyh               2007   \n",
       "234955            31506755        /m/0glntr4                NaN   \n",
       "446901             5136480         /m/0d4f24         1991-01-18   \n",
       "276373            22076070        /m/05p0fkf         1957-03-21   \n",
       "440618            30102446        /m/0g55z15               2011   \n",
       "216747            25619875        /m/09v71cj         2011-03-16   \n",
       "\n",
       "        Character name Actor date of birth Actor gender  Actor height  \\\n",
       "191908             NaN          1967-09-25            F           NaN   \n",
       "15809              NaN          1982-03-02            M          1.78   \n",
       "198289             NaN          1970-10-15            M          1.85   \n",
       "44732              NaN          1931-05-27            M           NaN   \n",
       "78594              NaN          1974-09-06            M          1.71   \n",
       "234955             NaN          1905-12-05            F           NaN   \n",
       "446901             NaN          1946-07-22            M          1.92   \n",
       "276373         Valeria          1944-10-02            F           NaN   \n",
       "440618             NaN          1976-09-03            M          1.77   \n",
       "216747  Meredith Black          1962-11-19            F          1.60   \n",
       "\n",
       "       Actor ethnicity              Actor name  Actor age  \\\n",
       "191908      /m/03gy1h2        Melissa De Sousa       32.0   \n",
       "15809              NaN             Mike Nugent       28.0   \n",
       "198289             NaN                Zak Orth       34.0   \n",
       "44732              NaN         Bernard Fresson       52.0   \n",
       "78594              NaN           Justin Whalin       32.0   \n",
       "234955             NaN  Natalia Pavlovna Paley        NaN   \n",
       "446901         /m/0x67            Danny Glover       44.0   \n",
       "276373             NaN       Serena Michelotti       12.0   \n",
       "440618      /m/0dryh9k            Vivek Oberoi       34.0   \n",
       "216747       /m/09vc4s            Jodie Foster       48.0   \n",
       "\n",
       "       Freebase character/actor map ID Freebase character ID Freebase actor ID  \n",
       "191908                      /m/03jq0s_                   NaN        /m/026r73s  \n",
       "15809                       /m/0h4nwt0                   NaN         /m/05_hcg  \n",
       "198289                      /m/07llvkp                   NaN         /m/0cg65w  \n",
       "44732                       /m/0c1llgw                   NaN        /m/02pg_2n  \n",
       "78594                       /m/03jqd33                   NaN         /m/062tjf  \n",
       "234955                      /m/0gw3cpd                   NaN         /m/076ywv  \n",
       "446901                       /m/0jy9d_                   NaN         /m/0205dx  \n",
       "276373                      /m/0mzg0sj            /m/0mzpqbl        /m/0ggh0l5  \n",
       "440618                      /m/0gw1d18                   NaN         /m/03w7jt  \n",
       "216747                      /m/0cg2qpn            /m/0gkbdx4          /m/0chw_  "
      ]
     },
     "execution_count": 14,
     "metadata": {},
     "output_type": "execute_result"
    }
   ],
   "source": [
    "character_metadata.sample(10)"
   ]
  },
  {
   "cell_type": "markdown",
   "metadata": {},
   "source": [
    "Taking a quick look, we see that we encounter the same problem with the \"Movie release date\" and \" Actor date of birth\" as seen before. Let's convert every entry to only a year when it's possible :"
   ]
  },
  {
   "cell_type": "code",
   "execution_count": 15,
   "metadata": {},
   "outputs": [],
   "source": [
    "# character_metadata['Movie release date'] = keep_the_year(character_metadata['Movie release date'], key='Movie release date')\n",
    "# character_metadata['Actor date of birth'] = keep_the_year(character_metadata['Actor date of birth'], key='Actor date of birth')"
   ]
  },
  {
   "cell_type": "markdown",
   "metadata": {},
   "source": [
    "### Save preprocessed files as CSV"
   ]
  },
  {
   "cell_type": "code",
   "execution_count": 16,
   "metadata": {},
   "outputs": [],
   "source": [
    "# Save movie_metadata and plot_summaries preprocessed dataframes to csv files\n",
    "# character_metadata.to_csv('../data/moviesummaries/character_metadata_preprocessed.csv', index=False)\n",
    "all_movies.to_csv('../data/moviesummaries/all_movies_preprocessed.csv', index=False)"
   ]
  },
  {
   "cell_type": "markdown",
   "metadata": {},
   "source": [
    "# 3. Learning more about the data"
   ]
  },
  {
   "cell_type": "markdown",
   "metadata": {},
   "source": [
    "### Chronological evolution of movie production"
   ]
  },
  {
   "cell_type": "code",
   "execution_count": 17,
   "metadata": {},
   "outputs": [
    {
     "data": {
      "image/png": "[encoded data removed]",
      "text/plain": [
       "<Figure size 1000x600 with 1 Axes>"
      ]
     },
     "metadata": {},
     "output_type": "display_data"
    }
   ],
   "source": [
    "fig, ax1 = plt.subplots(figsize=(10, 6))\n",
    "\n",
    "# Creating an histogram plotting the values of 'year'\n",
    "ax1.hist(all_movies['Movie release date'].dropna(), bins=range(int(all_movies['Movie release date'].min()), int(all_movies['Movie release date'].max()) + 1), edgecolor='black', label='Movie Releases')\n",
    "ax1.set_xlabel('Release Year')\n",
    "ax1.set_ylabel('Number of Movies', color='tab:blue')\n",
    "ax1.tick_params(axis='y', labelcolor='tab:blue')\n",
    "\n",
    "plt.title('Distribution of Movie Release Years')\n",
    "plt.show()"
   ]
  },
  {
   "cell_type": "markdown",
   "metadata": {},
   "source": [
    "Looking at the plot we can see that we have more data for recent films."
   ]
  },
  {
   "cell_type": "markdown",
   "metadata": {},
   "source": [
    "### Movie countries and genres"
   ]
  },
  {
   "cell_type": "markdown",
   "metadata": {},
   "source": [
    "We compute the top 10 countries and genres. For co-produced movies, we count an additional movie per co-producing country. For example, a movie co-produced by the USA and India will add +1 movie produced for both of these countries. The same logic applies for the movie genres."
   ]
  },
  {
   "cell_type": "code",
   "execution_count": 18,
   "metadata": {},
   "outputs": [
    {
     "name": "stdout",
     "output_type": "stream",
     "text": [
      "Number of unique movie countries: 148\n",
      "Number of unique movie genres: 364\n",
      "Number of unique movie languages: 208\n"
     ]
    }
   ],
   "source": [
    "# Print number of unique movie countries, genres and languages\n",
    "\n",
    "unique_countries_list = all_movies['Movie countries'].explode().unique()\n",
    "unique_genres_list = all_movies['Movie genres'].explode().unique()\n",
    "unique_languages_list = all_movies['Movie languages'].explode().unique()\n",
    "\n",
    "print('Number of unique movie countries:', len(unique_countries_list))\n",
    "print('Number of unique movie genres:', len(unique_genres_list))\n",
    "print('Number of unique movie languages:', len(unique_languages_list))"
   ]
  },
  {
   "cell_type": "code",
   "execution_count": 19,
   "metadata": {},
   "outputs": [
    {
     "data": {
      "image/png": "[encoded data removed]",
      "text/plain": [
       "<Figure size 800x400 with 1 Axes>"
      ]
     },
     "metadata": {},
     "output_type": "display_data"
    },
    {
     "name": "stdout",
     "output_type": "stream",
     "text": [
      "The top production country is United States of America and concerns 39.81% of all movies produced.\n"
     ]
    }
   ],
   "source": [
    "# Compute a box plot of top 10 countries with most movies produced or coproduced\n",
    "country_counts = {}\n",
    "\n",
    "for countries in all_movies['Movie countries']:\n",
    "    for country in countries:\n",
    "        if country in country_counts:\n",
    "            country_counts[country] += 1\n",
    "        else:\n",
    "            country_counts[country] = 1\n",
    "\n",
    "# Get the top 10 countries\n",
    "top_countries = sorted(country_counts.items(), key=lambda x: x[1], reverse=True)[:10]\n",
    "\n",
    "# Create a new DataFrame with the top countries\n",
    "top_countries_df = pd.DataFrame(top_countries, columns=['Country', 'Count'])\n",
    "\n",
    "# Bar plot\n",
    "plt.figure(figsize=(8, 4))\n",
    "plt.bar(top_countries_df['Country'], top_countries_df['Count'])\n",
    "plt.xlabel('Country')\n",
    "plt.ylabel('Number of Movies')\n",
    "plt.title('Top 10 Countries with Most Movies Produced')\n",
    "plt.xticks(rotation=45, ha='right')\n",
    "plt.show()\n",
    "\n",
    "# Print the top 1 country and its percentage\n",
    "top_1_country = top_countries_df['Country'].iloc[0]\n",
    "percentage = country_counts[top_1_country] / sum(country_counts.values()) * 100\n",
    "print(f'The top production country is {top_1_country} and concerns {percentage:.2f}% of all movies produced.')"
   ]
  },
  {
   "cell_type": "code",
   "execution_count": 20,
   "metadata": {},
   "outputs": [
    {
     "data": {
      "image/png": "[encoded data removed]",
      "text/plain": [
       "<Figure size 800x400 with 1 Axes>"
      ]
     },
     "metadata": {},
     "output_type": "display_data"
    },
    {
     "name": "stdout",
     "output_type": "stream",
     "text": [
      "The top genre is Drama and represents 13.98% of all movies produced.\n"
     ]
    }
   ],
   "source": [
    "# Compute a box plot of top 10 genres with most movies produced\n",
    "genre_counts = {}\n",
    "\n",
    "for genres in all_movies['Movie genres']:\n",
    "    for genre in genres:\n",
    "        if genre in genre_counts:\n",
    "            genre_counts[genre] += 1\n",
    "        else:\n",
    "            genre_counts[genre] = 1\n",
    "\n",
    "# Get the top 10 genres\n",
    "top_genres = sorted(genre_counts.items(), key=lambda x: x[1], reverse=True)[:10]\n",
    "\n",
    "# Create a new DataFrame with the top genres\n",
    "top_genres_df = pd.DataFrame(top_genres, columns=['Genre', 'Count'])\n",
    "\n",
    "# Bar plot\n",
    "plt.figure(figsize=(8, 4))\n",
    "plt.bar(top_genres_df['Genre'], top_genres_df['Count'])\n",
    "plt.xlabel('Genre')\n",
    "plt.ylabel('Number of Movies')\n",
    "plt.title('Top 10 Genres with Most Movies Produced')\n",
    "plt.xticks(rotation=45, ha='right')\n",
    "plt.show()\n",
    "\n",
    "# Print the top 1 genre and its percentage\n",
    "top_1_genre = top_genres_df['Genre'].iloc[0]\n",
    "percentage = genre_counts[top_1_genre] / sum(genre_counts.values()) * 100\n",
    "print(f'The top genre is {top_1_genre} and represents {percentage:.2f}% of all movies produced.')"
   ]
  },
  {
   "cell_type": "code",
   "execution_count": 21,
   "metadata": {},
   "outputs": [
    {
     "data": {
      "image/png": "[encoded data removed]",
      "text/plain": [
       "<Figure size 800x400 with 1 Axes>"
      ]
     },
     "metadata": {},
     "output_type": "display_data"
    },
    {
     "name": "stdout",
     "output_type": "stream",
     "text": [
      "The top language is \"English Language\" and represents 50.29% of all movies produced.\n"
     ]
    }
   ],
   "source": [
    "# Compute a box plot of top 10 genres with most movies produced\n",
    "language_counts = {}\n",
    "\n",
    "for languages in all_movies['Movie languages']:\n",
    "    for language in languages:\n",
    "        if language in language_counts:\n",
    "            language_counts[language] += 1\n",
    "        else:\n",
    "            language_counts[language] = 1\n",
    "\n",
    "# Get the top 10 genres\n",
    "top_languages = sorted(language_counts.items(), key=lambda x: x[1], reverse=True)[:10]\n",
    "\n",
    "# Create a new DataFrame with the top genres\n",
    "top_languages_df = pd.DataFrame(top_languages, columns=['Language', 'Count'])\n",
    "\n",
    "# Bar plot\n",
    "plt.figure(figsize=(8, 4))\n",
    "plt.bar(top_languages_df['Language'], top_languages_df['Count'])\n",
    "plt.xlabel('Languages')\n",
    "plt.ylabel('Number of Movies')\n",
    "plt.title('Top 10 Movie Languages')\n",
    "plt.xticks(rotation=45, ha='right')\n",
    "plt.show()\n",
    "\n",
    "# Print the top 1 genre and its percentage\n",
    "top_1_language = top_languages_df['Language'].iloc[0]\n",
    "percentage = language_counts[top_1_language] / sum(language_counts.values()) * 100\n",
    "print(f'The top language is \"{top_1_language}\" and represents {percentage:.2f}% of all movies produced.')\n"
   ]
  },
  {
   "cell_type": "markdown",
   "metadata": {},
   "source": [
    "These results show us that an analysis of the whole dataset will actually be more representative of movies produced or co-produced in the USA, movies belonging to the genre Drama and movies in english. The reason why the percentage of english movies is so high is not only because the USA is the largest producing country but also because a lot of movies might be translated in english."
   ]
  },
  {
   "cell_type": "code",
   "execution_count": 22,
   "metadata": {},
   "outputs": [
    {
     "data": {
      "image/png": "[encoded data removed]",
      "text/plain": [
       "<Figure size 1000x600 with 1 Axes>"
      ]
     },
     "metadata": {},
     "output_type": "display_data"
    }
   ],
   "source": [
    "# Selecting columns 'Movie genres' and 'Movie release date'\n",
    "genre_date = all_movies[['Movie genres', 'Movie release date']]\n",
    "\n",
    "# Drop rows with missing values in 'Movie genres' column\n",
    "genre_date = genre_date.dropna(subset=['Movie genres'])\n",
    "\n",
    "# Explode the 'Movie genres' column\n",
    "genre_date = genre_date.explode('Movie genres')\n",
    "\n",
    "# Drop rows with missing values in the exploded 'Movie genres' column\n",
    "genre_date = genre_date.dropna(subset=['Movie genres'])\n",
    "\n",
    "# Selecting rows where the movie genre is 'War film'\n",
    "war_movies = genre_date[genre_date['Movie genres'].str.contains('War film')]\n",
    "\n",
    "# Reset the index and drop nan values\n",
    "war_movies = war_movies.reset_index(drop=True).dropna()\n",
    "\n",
    "#plot the distribution of the number of movies per year for the 'War film' genre\n",
    "plt.figure(figsize=(10, 6))\n",
    "plt.hist(war_movies['Movie release date'], bins=range(int(war_movies['Movie release date'].min()), int(war_movies['Movie release date'].max()) + 1), edgecolor='black')\n",
    "plt.xlabel('Release Year')\n",
    "plt.ylabel('Number of War Movies')\n",
    "plt.title('Number of War Movies through the years')\n",
    "plt.show()"
   ]
  },
  {
   "cell_type": "markdown",
   "metadata": {},
   "source": [
    "This graph shows the evolution of the number of film about war depending on the years. We can see that there is a first peak around 1945 and a second one around 2010. The first peak could be explained by the Second World War, and the second peak could have several causes, such as the augmentation of the number of terrorist attack in USA and Europe or the augmentation of tension between Russia and USA."
   ]
  },
  {
   "cell_type": "markdown",
   "metadata": {},
   "source": [
    "## Missing values"
   ]
  },
  {
   "cell_type": "code",
   "execution_count": 23,
   "metadata": {},
   "outputs": [
    {
     "data": {
      "image/png": "[encoded data removed]",
      "text/plain": [
       "<Figure size 1000x600 with 1 Axes>"
      ]
     },
     "metadata": {},
     "output_type": "display_data"
    },
    {
     "name": "stdout",
     "output_type": "stream",
     "text": [
      "Percentage of missing values in movie revenue: 89.72%\n"
     ]
    }
   ],
   "source": [
    "# plot the percentage of missing values for all columns in the all_movies dataframe\n",
    "plt.figure(figsize=(10, 6))\n",
    "plt.barh(all_movies_null.index, all_movies_null['Percentage of null values'])\n",
    "plt.xlabel('Percentage of null values')\n",
    "plt.ylabel('Column name')\n",
    "plt.xticks(ticks=np.arange(0, 1.1, 0.1))\n",
    "plt.title('Percentage of null values per column')\n",
    "plt.show()\n",
    "\n",
    "print(f\"Percentage of missing values in movie revenue: {100*all_movies_null['Percentage of null values']['Movie revenue']:.2f}%\")"
   ]
  },
  {
   "cell_type": "markdown",
   "metadata": {},
   "source": [
    "We see that there are a lot of missing values of the movie revenues (around 90%), we need to find another metric for judging films popularity. IMDb ratings seem to be a good alternative. This dataset contains the average IMDb rating of movies and the number of votes."
   ]
  },
  {
   "cell_type": "markdown",
   "metadata": {},
   "source": [
    "# 4. Add IMDb ratings"
   ]
  },
  {
   "cell_type": "markdown",
   "metadata": {},
   "source": [
    "### Load the data"
   ]
  },
  {
   "cell_type": "code",
   "execution_count": 24,
   "metadata": {},
   "outputs": [],
   "source": [
    "movie_ratings = pd.read_csv('../data/title.ratings.tsv', sep='\\t', header=0)"
   ]
  },
  {
   "cell_type": "code",
   "execution_count": 25,
   "metadata": {},
   "outputs": [
    {
     "data": {
      "text/html": [
       "<div>\n",
       "<style scoped>\n",
       "    .dataframe tbody tr th:only-of-type {\n",
       "        vertical-align: middle;\n",
       "    }\n",
       "\n",
       "    .dataframe tbody tr th {\n",
       "        vertical-align: top;\n",
       "    }\n",
       "\n",
       "    .dataframe thead th {\n",
       "        text-align: right;\n",
       "    }\n",
       "</style>\n",
       "<table border=\"1\" class=\"dataframe\">\n",
       "  <thead>\n",
       "    <tr style=\"text-align: right;\">\n",
       "      <th></th>\n",
       "      <th>tconst</th>\n",
       "      <th>averageRating</th>\n",
       "      <th>numVotes</th>\n",
       "    </tr>\n",
       "  </thead>\n",
       "  <tbody>\n",
       "    <tr>\n",
       "      <th>0</th>\n",
       "      <td>tt0000001</td>\n",
       "      <td>5.7</td>\n",
       "      <td>2006</td>\n",
       "    </tr>\n",
       "    <tr>\n",
       "      <th>1</th>\n",
       "      <td>tt0000002</td>\n",
       "      <td>5.8</td>\n",
       "      <td>269</td>\n",
       "    </tr>\n",
       "    <tr>\n",
       "      <th>2</th>\n",
       "      <td>tt0000003</td>\n",
       "      <td>6.5</td>\n",
       "      <td>1909</td>\n",
       "    </tr>\n",
       "    <tr>\n",
       "      <th>3</th>\n",
       "      <td>tt0000004</td>\n",
       "      <td>5.5</td>\n",
       "      <td>178</td>\n",
       "    </tr>\n",
       "    <tr>\n",
       "      <th>4</th>\n",
       "      <td>tt0000005</td>\n",
       "      <td>6.2</td>\n",
       "      <td>2689</td>\n",
       "    </tr>\n",
       "  </tbody>\n",
       "</table>\n",
       "</div>"
      ],
      "text/plain": [
       "      tconst  averageRating  numVotes\n",
       "0  tt0000001            5.7      2006\n",
       "1  tt0000002            5.8       269\n",
       "2  tt0000003            6.5      1909\n",
       "3  tt0000004            5.5       178\n",
       "4  tt0000005            6.2      2689"
      ]
     },
     "execution_count": 25,
     "metadata": {},
     "output_type": "execute_result"
    }
   ],
   "source": [
    "movie_ratings.head()"
   ]
  },
  {
   "cell_type": "markdown",
   "metadata": {},
   "source": [
    "### Use Wikidata query to create a table that link IMDb identifier tconst with Freebase ID\n",
    "\n",
    "Since multiple movies have the same name and appear the same year, we have to link the two dataset using freebase ID of the movies in the original dataset and the unique identifier tconst of the IMDb ratings dataset. We use Wikidata query to create a link table"
   ]
  },
  {
   "cell_type": "code",
   "execution_count": 26,
   "metadata": {},
   "outputs": [
    {
     "data": {
      "text/html": [
       "<div>\n",
       "<style scoped>\n",
       "    .dataframe tbody tr th:only-of-type {\n",
       "        vertical-align: middle;\n",
       "    }\n",
       "\n",
       "    .dataframe tbody tr th {\n",
       "        vertical-align: top;\n",
       "    }\n",
       "\n",
       "    .dataframe thead th {\n",
       "        text-align: right;\n",
       "    }\n",
       "</style>\n",
       "<table border=\"1\" class=\"dataframe\">\n",
       "  <thead>\n",
       "    <tr style=\"text-align: right;\">\n",
       "      <th></th>\n",
       "      <th>tconst</th>\n",
       "      <th>Freebase movie ID</th>\n",
       "    </tr>\n",
       "  </thead>\n",
       "  <tbody>\n",
       "    <tr>\n",
       "      <th>0</th>\n",
       "      <td>nm0010930</td>\n",
       "      <td>/m/0282x</td>\n",
       "    </tr>\n",
       "    <tr>\n",
       "      <th>1</th>\n",
       "      <td>nm0124133</td>\n",
       "      <td>/m/09b6zr</td>\n",
       "    </tr>\n",
       "    <tr>\n",
       "      <th>2</th>\n",
       "      <td>nm0684496</td>\n",
       "      <td>/m/014d3</td>\n",
       "    </tr>\n",
       "    <tr>\n",
       "      <th>3</th>\n",
       "      <td>nm0061667</td>\n",
       "      <td>/m/01rgr</td>\n",
       "    </tr>\n",
       "    <tr>\n",
       "      <th>4</th>\n",
       "      <td>tt1675434</td>\n",
       "      <td>/m/0hgqwpj</td>\n",
       "    </tr>\n",
       "  </tbody>\n",
       "</table>\n",
       "</div>"
      ],
      "text/plain": [
       "      tconst Freebase movie ID\n",
       "0  nm0010930          /m/0282x\n",
       "1  nm0124133         /m/09b6zr\n",
       "2  nm0684496          /m/014d3\n",
       "3  nm0061667          /m/01rgr\n",
       "4  tt1675434        /m/0hgqwpj"
      ]
     },
     "execution_count": 26,
     "metadata": {},
     "output_type": "execute_result"
    }
   ],
   "source": [
    "# Create the table\n",
    "link_id = link_tconst_freebaseID()\n",
    "\n",
    "# Drop duplicates\n",
    "link_id = link_id.drop_duplicates(subset=['tconst'])\n",
    "link_id = link_id.drop_duplicates(subset=['Freebase movie ID'])\n",
    "\n",
    "link_id.head()"
   ]
  },
  {
   "cell_type": "markdown",
   "metadata": {},
   "source": [
    "### Merge the two datasets"
   ]
  },
  {
   "cell_type": "code",
   "execution_count": 27,
   "metadata": {},
   "outputs": [
    {
     "data": {
      "text/html": [
       "<div>\n",
       "<style scoped>\n",
       "    .dataframe tbody tr th:only-of-type {\n",
       "        vertical-align: middle;\n",
       "    }\n",
       "\n",
       "    .dataframe tbody tr th {\n",
       "        vertical-align: top;\n",
       "    }\n",
       "\n",
       "    .dataframe thead th {\n",
       "        text-align: right;\n",
       "    }\n",
       "</style>\n",
       "<table border=\"1\" class=\"dataframe\">\n",
       "  <thead>\n",
       "    <tr style=\"text-align: right;\">\n",
       "      <th></th>\n",
       "      <th>tconst</th>\n",
       "      <th>averageRating</th>\n",
       "      <th>numVotes</th>\n",
       "      <th>Freebase movie ID</th>\n",
       "    </tr>\n",
       "  </thead>\n",
       "  <tbody>\n",
       "    <tr>\n",
       "      <th>0</th>\n",
       "      <td>tt0000001</td>\n",
       "      <td>5.7</td>\n",
       "      <td>2006</td>\n",
       "      <td>/m/0kvdsy</td>\n",
       "    </tr>\n",
       "    <tr>\n",
       "      <th>1</th>\n",
       "      <td>tt0000002</td>\n",
       "      <td>5.8</td>\n",
       "      <td>269</td>\n",
       "      <td>/m/02pz844</td>\n",
       "    </tr>\n",
       "    <tr>\n",
       "      <th>2</th>\n",
       "      <td>tt0000003</td>\n",
       "      <td>6.5</td>\n",
       "      <td>1909</td>\n",
       "      <td>/m/0g53g2</td>\n",
       "    </tr>\n",
       "    <tr>\n",
       "      <th>3</th>\n",
       "      <td>tt0000004</td>\n",
       "      <td>5.5</td>\n",
       "      <td>178</td>\n",
       "      <td>/m/02pzdsc</td>\n",
       "    </tr>\n",
       "    <tr>\n",
       "      <th>4</th>\n",
       "      <td>tt0000005</td>\n",
       "      <td>6.2</td>\n",
       "      <td>2689</td>\n",
       "      <td>/m/0jq3g</td>\n",
       "    </tr>\n",
       "  </tbody>\n",
       "</table>\n",
       "</div>"
      ],
      "text/plain": [
       "      tconst  averageRating  numVotes Freebase movie ID\n",
       "0  tt0000001            5.7      2006         /m/0kvdsy\n",
       "1  tt0000002            5.8       269        /m/02pz844\n",
       "2  tt0000003            6.5      1909         /m/0g53g2\n",
       "3  tt0000004            5.5       178        /m/02pzdsc\n",
       "4  tt0000005            6.2      2689          /m/0jq3g"
      ]
     },
     "execution_count": 27,
     "metadata": {},
     "output_type": "execute_result"
    }
   ],
   "source": [
    "# Add freebase ID to movie_ratings\n",
    "movie_ratings = pd.merge(movie_ratings, link_id, on='tconst', how='left')\n",
    "movie_ratings.head()"
   ]
  },
  {
   "cell_type": "code",
   "execution_count": 28,
   "metadata": {},
   "outputs": [
    {
     "data": {
      "text/html": [
       "<div>\n",
       "<style scoped>\n",
       "    .dataframe tbody tr th:only-of-type {\n",
       "        vertical-align: middle;\n",
       "    }\n",
       "\n",
       "    .dataframe tbody tr th {\n",
       "        vertical-align: top;\n",
       "    }\n",
       "\n",
       "    .dataframe thead th {\n",
       "        text-align: right;\n",
       "    }\n",
       "</style>\n",
       "<table border=\"1\" class=\"dataframe\">\n",
       "  <thead>\n",
       "    <tr style=\"text-align: right;\">\n",
       "      <th></th>\n",
       "      <th>Wikipedia movie ID</th>\n",
       "      <th>Freebase movie ID</th>\n",
       "      <th>Movie name</th>\n",
       "      <th>Movie release date</th>\n",
       "      <th>Movie revenue</th>\n",
       "      <th>Movie runtime</th>\n",
       "      <th>Movie languages</th>\n",
       "      <th>Movie countries</th>\n",
       "      <th>Movie genres</th>\n",
       "      <th>Summary</th>\n",
       "      <th>averageRating</th>\n",
       "      <th>numVotes</th>\n",
       "    </tr>\n",
       "  </thead>\n",
       "  <tbody>\n",
       "    <tr>\n",
       "      <th>0</th>\n",
       "      <td>975900</td>\n",
       "      <td>/m/03vyhn</td>\n",
       "      <td>Ghosts of Mars</td>\n",
       "      <td>2001</td>\n",
       "      <td>14010832.0</td>\n",
       "      <td>98.0</td>\n",
       "      <td>[English Language]</td>\n",
       "      <td>[United States of America]</td>\n",
       "      <td>[Thriller, Science Fiction, Horror, Adventure,...</td>\n",
       "      <td>Set in the second half of the 22nd century, th...</td>\n",
       "      <td>4.9</td>\n",
       "      <td>56908.0</td>\n",
       "    </tr>\n",
       "    <tr>\n",
       "      <th>1</th>\n",
       "      <td>3196793</td>\n",
       "      <td>/m/08yl5d</td>\n",
       "      <td>Getting Away with Murder: The JonBenét Ramsey ...</td>\n",
       "      <td>2000</td>\n",
       "      <td>NaN</td>\n",
       "      <td>95.0</td>\n",
       "      <td>[English Language]</td>\n",
       "      <td>[United States of America]</td>\n",
       "      <td>[Mystery, Biographical film, Drama, Crime Drama]</td>\n",
       "      <td>NaN</td>\n",
       "      <td>6.0</td>\n",
       "      <td>69.0</td>\n",
       "    </tr>\n",
       "    <tr>\n",
       "      <th>2</th>\n",
       "      <td>28463795</td>\n",
       "      <td>/m/0crgdbh</td>\n",
       "      <td>Brun bitter</td>\n",
       "      <td>1988</td>\n",
       "      <td>NaN</td>\n",
       "      <td>83.0</td>\n",
       "      <td>[Norwegian Language]</td>\n",
       "      <td>[Norway]</td>\n",
       "      <td>[Crime Fiction, Drama]</td>\n",
       "      <td>NaN</td>\n",
       "      <td>5.6</td>\n",
       "      <td>40.0</td>\n",
       "    </tr>\n",
       "    <tr>\n",
       "      <th>3</th>\n",
       "      <td>9363483</td>\n",
       "      <td>/m/0285_cd</td>\n",
       "      <td>White Of The Eye</td>\n",
       "      <td>1987</td>\n",
       "      <td>NaN</td>\n",
       "      <td>110.0</td>\n",
       "      <td>[English Language]</td>\n",
       "      <td>[United Kingdom]</td>\n",
       "      <td>[Thriller, Erotic thriller, Psychological thri...</td>\n",
       "      <td>A series of murders of rich young women throug...</td>\n",
       "      <td>6.1</td>\n",
       "      <td>2895.0</td>\n",
       "    </tr>\n",
       "    <tr>\n",
       "      <th>4</th>\n",
       "      <td>261236</td>\n",
       "      <td>/m/01mrr1</td>\n",
       "      <td>A Woman in Flames</td>\n",
       "      <td>1983</td>\n",
       "      <td>NaN</td>\n",
       "      <td>106.0</td>\n",
       "      <td>[German Language]</td>\n",
       "      <td>[Germany]</td>\n",
       "      <td>[Drama]</td>\n",
       "      <td>Eva, an upper class housewife, becomes frustra...</td>\n",
       "      <td>5.9</td>\n",
       "      <td>623.0</td>\n",
       "    </tr>\n",
       "  </tbody>\n",
       "</table>\n",
       "</div>"
      ],
      "text/plain": [
       "   Wikipedia movie ID Freebase movie ID  \\\n",
       "0              975900         /m/03vyhn   \n",
       "1             3196793         /m/08yl5d   \n",
       "2            28463795        /m/0crgdbh   \n",
       "3             9363483        /m/0285_cd   \n",
       "4              261236         /m/01mrr1   \n",
       "\n",
       "                                          Movie name  Movie release date  \\\n",
       "0                                     Ghosts of Mars                2001   \n",
       "1  Getting Away with Murder: The JonBenét Ramsey ...                2000   \n",
       "2                                        Brun bitter                1988   \n",
       "3                                   White Of The Eye                1987   \n",
       "4                                  A Woman in Flames                1983   \n",
       "\n",
       "   Movie revenue  Movie runtime       Movie languages  \\\n",
       "0     14010832.0           98.0    [English Language]   \n",
       "1            NaN           95.0    [English Language]   \n",
       "2            NaN           83.0  [Norwegian Language]   \n",
       "3            NaN          110.0    [English Language]   \n",
       "4            NaN          106.0     [German Language]   \n",
       "\n",
       "              Movie countries  \\\n",
       "0  [United States of America]   \n",
       "1  [United States of America]   \n",
       "2                    [Norway]   \n",
       "3            [United Kingdom]   \n",
       "4                   [Germany]   \n",
       "\n",
       "                                        Movie genres  \\\n",
       "0  [Thriller, Science Fiction, Horror, Adventure,...   \n",
       "1   [Mystery, Biographical film, Drama, Crime Drama]   \n",
       "2                             [Crime Fiction, Drama]   \n",
       "3  [Thriller, Erotic thriller, Psychological thri...   \n",
       "4                                            [Drama]   \n",
       "\n",
       "                                             Summary  averageRating  numVotes  \n",
       "0  Set in the second half of the 22nd century, th...            4.9   56908.0  \n",
       "1                                                NaN            6.0      69.0  \n",
       "2                                                NaN            5.6      40.0  \n",
       "3  A series of murders of rich young women throug...            6.1    2895.0  \n",
       "4  Eva, an upper class housewife, becomes frustra...            5.9     623.0  "
      ]
     },
     "execution_count": 28,
     "metadata": {},
     "output_type": "execute_result"
    }
   ],
   "source": [
    "# Merge all_movies and movie_ratings\n",
    "all_movies = pd.merge(all_movies, movie_ratings, on='Freebase movie ID', how='left')\n",
    "# Drop tconst column\n",
    "all_movies.drop(columns=['tconst'], inplace=True)\n",
    "\n",
    "all_movies.head()"
   ]
  },
  {
   "cell_type": "code",
   "execution_count": 29,
   "metadata": {},
   "outputs": [
    {
     "name": "stdout",
     "output_type": "stream",
     "text": [
      "Percentage of missing values in averageRatings: 17.00%\n",
      "Percentage of missing values in numVotes: 17.00%\n"
     ]
    }
   ],
   "source": [
    "# Percentage of missing values in the columns averageRatings and num votes\n",
    "print('Percentage of missing values in averageRatings: {:.2f}%'.format(100 * all_movies['averageRating'].isnull().sum() / len(all_movies)))\n",
    "print('Percentage of missing values in numVotes: {:.2f}%'.format(100 * all_movies['numVotes'].isnull().sum() / len(all_movies)))"
   ]
  },
  {
   "cell_type": "markdown",
   "metadata": {},
   "source": [
    "We have far fewer missing values in ratings than in revenues."
   ]
  },
  {
   "cell_type": "markdown",
   "metadata": {},
   "source": [
    "### Correlation between movie revenue and average rating"
   ]
  },
  {
   "cell_type": "code",
   "execution_count": 30,
   "metadata": {},
   "outputs": [
    {
     "name": "stdout",
     "output_type": "stream",
     "text": [
      "Percentage of movies for which we have both informations: 10.18% \n",
      " \n",
      "\n",
      "Person correlation between movie revenue and average rating:  PearsonRResult(statistic=0.16823475825985873, pvalue=6.763377264292565e-54) \n",
      " \n",
      "\n"
     ]
    },
    {
     "name": "stderr",
     "output_type": "stream",
     "text": [
      "/Users/clarawetzel/anaconda3/envs/ada/lib/python3.9/site-packages/seaborn/axisgrid.py:118: UserWarning: The figure layout has changed to tight\n",
      "  self._figure.tight_layout(*args, **kwargs)\n"
     ]
    },
    {
     "data": {
      "text/plain": [
       "<seaborn.axisgrid.FacetGrid at 0x7fc8f2297ac0>"
      ]
     },
     "execution_count": 30,
     "metadata": {},
     "output_type": "execute_result"
    },
    {
     "data": {
      "image/png": "[encoded data removed]",
      "text/plain": [
       "<Figure size 500x500 with 1 Axes>"
      ]
     },
     "metadata": {},
     "output_type": "display_data"
    }
   ],
   "source": [
    "# Keep movies for which we have both informations\n",
    "df1 = all_movies.dropna(subset=['Movie revenue', 'averageRating'])\n",
    "\n",
    "# What percentage of the whole dataset does it represent\n",
    "print(\"Percentage of movies for which we have both informations: {:.2f}%\".format(100 * len(df1) / len(all_movies)), '\\n', '\\n')\n",
    "\n",
    "# Pearson correlation between the movie revenue and the average rating\n",
    "df1_pearson = stats.pearsonr(df1['Movie revenue'], df1['averageRating'])\n",
    "print(\"Person correlation between movie revenue and average rating: \", df1_pearson, '\\n', '\\n')\n",
    "\n",
    "# Plot the correlation between the movie revenue and the average rating\n",
    "sns.lmplot(x='Movie revenue', y='averageRating', data=df1, scatter_kws={\"s\": 1}, line_kws={'color': 'red'})"
   ]
  },
  {
   "cell_type": "markdown",
   "metadata": {},
   "source": [
    "There is a significant positive correlation between a movie revenue and its average rating."
   ]
  },
  {
   "cell_type": "markdown",
   "metadata": {},
   "source": [
    "### Correlation between movie revenue and number of votes for rating"
   ]
  },
  {
   "cell_type": "code",
   "execution_count": 31,
   "metadata": {},
   "outputs": [
    {
     "name": "stdout",
     "output_type": "stream",
     "text": [
      "Percentage of movies for which we have both informations: 10.18% \n",
      " \n",
      "\n",
      "Person correlation between movie revenue and numVotes:  PearsonRResult(statistic=0.6550136090668378, pvalue=0.0) \n",
      " \n",
      "\n"
     ]
    },
    {
     "name": "stderr",
     "output_type": "stream",
     "text": [
      "/Users/clarawetzel/anaconda3/envs/ada/lib/python3.9/site-packages/seaborn/axisgrid.py:118: UserWarning: The figure layout has changed to tight\n",
      "  self._figure.tight_layout(*args, **kwargs)\n"
     ]
    },
    {
     "data": {
      "text/plain": [
       "<seaborn.axisgrid.FacetGrid at 0x7fc8efb67df0>"
      ]
     },
     "execution_count": 31,
     "metadata": {},
     "output_type": "execute_result"
    },
    {
     "data": {
      "image/png": "[encoded data removed]",
      "text/plain": [
       "<Figure size 500x500 with 1 Axes>"
      ]
     },
     "metadata": {},
     "output_type": "display_data"
    }
   ],
   "source": [
    "# Keep movies for which we have both informations\n",
    "df2 = all_movies.dropna(subset=['Movie revenue', 'numVotes'])\n",
    "\n",
    "# What percentage of the whole dataset does it represent\n",
    "print(\"Percentage of movies for which we have both informations: {:.2f}%\".format(100 * len(df2) / len(all_movies)), '\\n', '\\n')\n",
    "\n",
    "# Pearson correlation between the movie revenue and the average rating\n",
    "df2_pearson = stats.pearsonr(df2['Movie revenue'], df2['numVotes'])\n",
    "print(\"Person correlation between movie revenue and numVotes: \",df2_pearson, '\\n', '\\n')\n",
    "\n",
    "\n",
    "# Plot the correlation between the movie revenue and the average rating\n",
    "sns.lmplot(x='Movie revenue', y='numVotes', data=df2, scatter_kws={\"s\": 1}, line_kws={'color': 'red'})"
   ]
  },
  {
   "cell_type": "markdown",
   "metadata": {},
   "source": [
    "There is a significant positive correlation between a movie revenue and its number of votes."
   ]
  },
  {
   "cell_type": "markdown",
   "metadata": {},
   "source": [
    "Looking at the previous graphs, the positive correlation between the data confirms that using the movie reviews and number of votes in a similar extent as the movie revenue is reasonable."
   ]
  },
  {
   "cell_type": "markdown",
   "metadata": {},
   "source": [
    "# Correlation"
   ]
  },
  {
   "cell_type": "markdown",
   "metadata": {},
   "source": [
    "### Movie release year - Movie average rating"
   ]
  },
  {
   "cell_type": "code",
   "execution_count": 32,
   "metadata": {},
   "outputs": [
    {
     "name": "stderr",
     "output_type": "stream",
     "text": [
      "/var/folders/60/n3wml7t139732y5n5jgc1bqc0000gn/T/ipykernel_4898/148172858.py:3: SettingWithCopyWarning: \n",
      "A value is trying to be set on a copy of a slice from a DataFrame.\n",
      "Try using .loc[row_indexer,col_indexer] = value instead\n",
      "\n",
      "See the caveats in the documentation: https://pandas.pydata.org/pandas-docs/stable/user_guide/indexing.html#returning-a-view-versus-a-copy\n",
      "  df3['Movie release date'] = df3['Movie release date'].astype(int)\n",
      "/Users/clarawetzel/anaconda3/envs/ada/lib/python3.9/site-packages/seaborn/axisgrid.py:118: UserWarning: The figure layout has changed to tight\n",
      "  self._figure.tight_layout(*args, **kwargs)\n"
     ]
    },
    {
     "name": "stdout",
     "output_type": "stream",
     "text": [
      "\n",
      " \n",
      " Percentage of movies for which we have both informations: 77.54% \n",
      " \n",
      "\n",
      "Person correlation between movie revenue and numVotes:  PearsonRResult(statistic=-0.055326234038235965, pvalue=3.6821080924045957e-44) \n",
      " \n",
      "\n"
     ]
    },
    {
     "data": {
      "text/plain": [
       "<seaborn.axisgrid.FacetGrid at 0x7fc8f22454c0>"
      ]
     },
     "execution_count": 32,
     "metadata": {},
     "output_type": "execute_result"
    },
    {
     "data": {
      "image/png": "[encoded data removed]",
      "text/plain": [
       "<Figure size 500x500 with 1 Axes>"
      ]
     },
     "metadata": {},
     "output_type": "display_data"
    }
   ],
   "source": [
    "# Keep movies for which we have both informations\n",
    "df3 = all_movies.dropna(subset=['Movie release date', 'averageRating'])\n",
    "df3['Movie release date'] = df3['Movie release date'].astype(int)\n",
    "\n",
    "# What percentage of the whole dataset does it represent\n",
    "print('\\n', '\\n', \"Percentage of movies for which we have both informations: {:.2f}%\".format(100 * len(df3) / len(all_movies)), '\\n', '\\n')\n",
    "\n",
    "# Pearson correlation between the movie revenue and the average rating\n",
    "df3_pearson = stats.pearsonr(df3['Movie release date'], df3['averageRating'])\n",
    "print(\"Person correlation between movie revenue and numVotes: \", df3_pearson, '\\n', '\\n')\n",
    "\n",
    "# Plot the correlation between the movie revenue and the average rating\n",
    "sns.lmplot(x='Movie release date', y='averageRating', data=df3, scatter_kws={\"s\": 1}, line_kws={'color': 'red'})"
   ]
  },
  {
   "cell_type": "markdown",
   "metadata": {},
   "source": [
    "There is a significative but very weak negative correlation between the two variables."
   ]
  },
  {
   "cell_type": "code",
   "execution_count": null,
   "metadata": {},
   "outputs": [],
   "source": []
  }
 ],
 "metadata": {
  "kernelspec": {
   "display_name": "ada",
   "language": "python",
   "name": "python3"
  },
  "language_info": {
   "codemirror_mode": {
    "name": "ipython",
    "version": 3
   },
   "file_extension": ".py",
   "mimetype": "text/x-python",
   "name": "python",
   "nbconvert_exporter": "python",
   "pygments_lexer": "ipython3",
   "version": "3.9.18"
  }
 },
 "nbformat": 4,
 "nbformat_minor": 2
}
